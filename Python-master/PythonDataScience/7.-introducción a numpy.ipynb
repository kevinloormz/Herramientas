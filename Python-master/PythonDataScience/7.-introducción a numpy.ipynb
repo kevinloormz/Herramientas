{
 "cells": [
  {
   "cell_type": "code",
   "execution_count": null,
   "metadata": {},
   "outputs": [],
   "source": [
    "#Orientado al analisis matematico y cientifico de datos \n",
    "import numpy as np\n"
   ]
  },
  {
   "cell_type": "code",
   "execution_count": null,
   "metadata": {},
   "outputs": [],
   "source": [
    "#Crear el objeto mas popular un array \n",
    "valoraciones= np.array([[8,7,8,5],[2,6,8,1],[8,8,9,5]])"
   ]
  },
  {
   "cell_type": "code",
   "execution_count": null,
   "metadata": {},
   "outputs": [],
   "source": [
    "valoraciones"
   ]
  },
  {
   "cell_type": "code",
   "execution_count": null,
   "metadata": {},
   "outputs": [],
   "source": [
    "#fila columna posicion \n",
    "valoraciones[1][1]"
   ]
  },
  {
   "cell_type": "code",
   "execution_count": null,
   "metadata": {},
   "outputs": [],
   "source": [
    "#otra forma de escribir lo mismo [1,1] fila, columna \n",
    "valoraciones[1,1]"
   ]
  },
  {
   "cell_type": "code",
   "execution_count": null,
   "metadata": {},
   "outputs": [],
   "source": [
    "#en este caso vamos a tener tres dimensiones con dos valoraciones cada uno de los clientes por citar un ejemplo \n",
    "valoraciones2= np.array([[[8,7,8,5],[8,7,8,5]],[[2,6,8,1],[2,6,8,1]],[[8,8,9,5],[8,8,9,5]]])"
   ]
  },
  {
   "cell_type": "code",
   "execution_count": null,
   "metadata": {},
   "outputs": [],
   "source": [
    "valoraciones2"
   ]
  },
  {
   "cell_type": "code",
   "execution_count": null,
   "metadata": {},
   "outputs": [],
   "source": [
    "#asi podemos acceder a las dimensiones en este caso es el tercer cliente y su segunda valoracion obviamente\n",
    "#recordando que el indice empieza desde 0\n",
    "valoraciones2[2,1]"
   ]
  },
  {
   "cell_type": "code",
   "execution_count": null,
   "metadata": {},
   "outputs": [],
   "source": [
    "#si queremos acceder a un elemento especifico de ese tercer cliente tenemos que especificar la posicion poniendo otra , coma\n",
    "valoraciones2[2,1,3]"
   ]
  },
  {
   "cell_type": "code",
   "execution_count": null,
   "metadata": {},
   "outputs": [],
   "source": [
    "#podemos crear array vacios de una manera mas facil con las dimensiones que queramos \n",
    "#ejemplo 3 clientes 2 productos 4 valoraciones \n",
    "\n",
    "np.zeros((3,2,4))"
   ]
  },
  {
   "cell_type": "code",
   "execution_count": null,
   "metadata": {},
   "outputs": [],
   "source": [
    "#Podemos sumar array del mismo tamaño ejemplo le sumamos uno con la funcion ones \n",
    "valoraciones2+np.ones((3,2,4))"
   ]
  },
  {
   "cell_type": "code",
   "execution_count": null,
   "metadata": {},
   "outputs": [],
   "source": [
    "#podemos aplicar funciones a todo el array \n",
    "np.mean(valoraciones2)"
   ]
  },
  {
   "cell_type": "code",
   "execution_count": null,
   "metadata": {},
   "outputs": [],
   "source": [
    "#media de todos los primeros ejes\n",
    "np.mean(valoraciones2,axis=0)"
   ]
  },
  {
   "cell_type": "code",
   "execution_count": null,
   "metadata": {},
   "outputs": [],
   "source": [
    "#media del segundo eje \n",
    "np.mean(valoraciones2,axis=1)"
   ]
  },
  {
   "cell_type": "code",
   "execution_count": null,
   "metadata": {},
   "outputs": [],
   "source": [
    "#media del tercer eje \n",
    "#es la media de cada fila se puede decir\n",
    "np.mean(valoraciones2,axis=2)"
   ]
  },
  {
   "cell_type": "code",
   "execution_count": null,
   "metadata": {},
   "outputs": [],
   "source": [
    "#podemos crear un array a partir de una lista y especificar el numero de grupos, filas y columnas \n",
    "#ejemplo del (3,2,2) 3 grupos 2 filas y dos columnas \n",
    "#tener cuidado que el numero de dimensiones multiplicados sea igual al len de la lista \n",
    "np.reshape([1,2,3,4,5,6,7,8,9,10,11,12],(3,2,2))\n"
   ]
  },
  {
   "cell_type": "code",
   "execution_count": null,
   "metadata": {},
   "outputs": [],
   "source": [
    "#podemos calcular las medias de df \n",
    "np.median(df[\"columna1\"])"
   ]
  },
  {
   "cell_type": "code",
   "execution_count": null,
   "metadata": {},
   "outputs": [],
   "source": [
    "np.random.rand(3,2,2)"
   ]
  }
 ],
 "metadata": {
  "kernelspec": {
   "display_name": "Python 3",
   "language": "python",
   "name": "python3"
  },
  "language_info": {
   "codemirror_mode": {
    "name": "ipython",
    "version": 3
   },
   "file_extension": ".py",
   "mimetype": "text/x-python",
   "name": "python",
   "nbconvert_exporter": "python",
   "pygments_lexer": "ipython3",
   "version": "3.7.4"
  }
 },
 "nbformat": 4,
 "nbformat_minor": 2
}
