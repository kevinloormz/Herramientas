{
 "cells": [
  {
   "cell_type": "code",
   "execution_count": null,
   "metadata": {},
   "outputs": [],
   "source": [
    "#como detectar aquellos datos que toman valores extremadamentes grandes o pequeños los famosos outliers\n",
    "import pandas as pd \n",
    "import numpy as np\n",
    "df = pd.read_csv(\"C:/Users/dell/OneDrive - Universidad de Guayaquil/Analista de datos - Linkedin Learning/base_datos_2008.csv\",nrows=100000)"
   ]
  },
  {
   "cell_type": "code",
   "execution_count": null,
   "metadata": {},
   "outputs": [],
   "source": [
    "#la manera mas clasicas con quartiles \n",
    "#seleccionamos una columna y eliminamos los NaN\n",
    "x=df.ArrDelay.dropna()"
   ]
  },
  {
   "cell_type": "code",
   "execution_count": null,
   "metadata": {},
   "outputs": [],
   "source": [
    "#verificamos si existen NaN \n",
    "x.groupby(by=x.isna()).count()"
   ]
  },
  {
   "cell_type": "code",
   "execution_count": null,
   "metadata": {},
   "outputs": [],
   "source": [
    "#Los cuartiles son una medida estadistica \n",
    "#lo que nos separa es el 25% inferior de los datos del 75% superior de los datos o viceversa\n",
    "#la mediana es el segundo cuartil\n",
    "q1=np.percentile(x,25)\n",
    "q3=np.percentile(x,75)\n",
    "#rango intercuartilico diferencia entre el tercer y primer cuartil \n",
    "rangointer=q3-q1"
   ]
  },
  {
   "cell_type": "code",
   "execution_count": null,
   "metadata": {},
   "outputs": [],
   "source": [
    "#un criterios clasico para estos casos es definir dos umbrales \n",
    "umbralsuperiror=q3+1.5*rangointer\n",
    "umbralinferirior=q1-1.5*rangointer\n"
   ]
  },
  {
   "cell_type": "code",
   "execution_count": null,
   "metadata": {},
   "outputs": [],
   "source": [
    "umbralsuperiror"
   ]
  },
  {
   "cell_type": "code",
   "execution_count": null,
   "metadata": {},
   "outputs": [],
   "source": [
    "umbralinferirior"
   ]
  },
  {
   "cell_type": "code",
   "execution_count": null,
   "metadata": {},
   "outputs": [],
   "source": [
    "#comprobamos cuantos casos hay por encima o debajo de estos umbrales \n",
    "#vemos en porcentaje estan por encima\n",
    "np.mean(x>umbralsuperiror)*100"
   ]
  },
  {
   "cell_type": "code",
   "execution_count": null,
   "metadata": {},
   "outputs": [],
   "source": [
    "#fin del primer metodo variables una a una \n",
    "np.mean(x<umbralinferirior)*100"
   ]
  },
  {
   "cell_type": "code",
   "execution_count": null,
   "metadata": {},
   "outputs": [],
   "source": [
    "#una manera de estudiar varias variables a la vez \n",
    "#segundo metodo\n",
    "from sklearn.covariance import EllipticEnvelope\n"
   ]
  },
  {
   "cell_type": "code",
   "execution_count": null,
   "metadata": {},
   "outputs": [],
   "source": [
    "#vamos a definir un objeto \n",
    "#vamos a seleccionar el 1% de datos que considere mas alejados de nuestros datos mas centrados \n",
    "#ejecutamos el modelo \n",
    "outliers= EllipticEnvelope(contamination=.01)"
   ]
  },
  {
   "cell_type": "code",
   "execution_count": null,
   "metadata": {},
   "outputs": [],
   "source": [
    "df.dtypes"
   ]
  },
  {
   "cell_type": "code",
   "execution_count": null,
   "metadata": {},
   "outputs": [],
   "source": [
    "#vamos a definir una lista de variables de nuestra base de datos todas cuantitativas float o int\n",
    "varlist=[\"DepDelay\",\"TaxiIn\",\"TaxiOut\",\"CarrierDelay\",\"WeatherDelay\",\"NASDelay\",\"SecurityDelay\",\"LateAircraftDelay\"]"
   ]
  },
  {
   "cell_type": "code",
   "execution_count": null,
   "metadata": {},
   "outputs": [],
   "source": [
    "#elegimos los valores que nos interesan de nuestro df \n",
    "#Declarar x en mayuscula\n",
    "X=np.array(df.loc[:,varlist].dropna())"
   ]
  },
  {
   "cell_type": "code",
   "execution_count": null,
   "metadata": {},
   "outputs": [],
   "source": [
    "#vamos a entrenar nuestro modelo \n",
    "outliers.fit(X)"
   ]
  },
  {
   "cell_type": "code",
   "execution_count": null,
   "metadata": {},
   "outputs": [],
   "source": [
    "#vamos a hacer la prediccion \n",
    "pred=outliers.predict(X)"
   ]
  },
  {
   "cell_type": "code",
   "execution_count": null,
   "metadata": {},
   "outputs": [],
   "source": [
    "#obtenemos un array de 1(dentro) y -1(fuera) los conocidos outliers\n",
    "pred"
   ]
  },
  {
   "cell_type": "code",
   "execution_count": null,
   "metadata": {},
   "outputs": [],
   "source": [
    "elipsoutliers=np.where(pred==-1)[0]"
   ]
  },
  {
   "cell_type": "code",
   "execution_count": null,
   "metadata": {},
   "outputs": [],
   "source": [
    "#conseguimos todos los indices que estan muy alejados de los valores centrales de las variables estudiadas\n",
    "#es decir nuestros outliers\n",
    "elipsoutliers"
   ]
  }
 ],
 "metadata": {
  "kernelspec": {
   "display_name": "Python 3",
   "language": "python",
   "name": "python3"
  },
  "language_info": {
   "codemirror_mode": {
    "name": "ipython",
    "version": 3
   },
   "file_extension": ".py",
   "mimetype": "text/x-python",
   "name": "python",
   "nbconvert_exporter": "python",
   "pygments_lexer": "ipython3",
   "version": "3.7.4"
  }
 },
 "nbformat": 4,
 "nbformat_minor": 2
}
