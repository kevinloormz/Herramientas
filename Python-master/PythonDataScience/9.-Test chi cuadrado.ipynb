{
 "cells": [
  {
   "cell_type": "code",
   "execution_count": null,
   "metadata": {},
   "outputs": [],
   "source": [
    "#permite encontrar relaciones entre variable cualitativas\n",
    "#permite decir afirmacciones lobales por ejemplo fumar esta relacionado significativamente con el cancer de pulmon \n",
    "#una exploracion de las tablas permite determinar en que direccion se da esta relacion \n",
    "import pandas as pd\n",
    "import numpy as np\n",
    "df = pd.read_csv(\"C:/Users/dell/OneDrive - Universidad de Guayaquil/Analista de datos - Linkedin Learning/base_datos_2008.csv\")"
   ]
  },
  {
   "cell_type": "code",
   "execution_count": null,
   "metadata": {},
   "outputs": [],
   "source": [
    "df.columns"
   ]
  },
  {
   "cell_type": "code",
   "execution_count": null,
   "metadata": {},
   "outputs": [],
   "source": [
    "#fijar una semilla\n",
    "#cuando quieras replicar este codigo vas a obtener los mismos resultados cuando apliques funciones aleatorias \n",
    "np.random.seed(0)"
   ]
  },
  {
   "cell_type": "code",
   "execution_count": null,
   "metadata": {},
   "outputs": [],
   "source": [
    "#vamos a crear un subset de los datos \n",
    "df=df[df.Origin.isin([\"HOU\",\"ATL\",\"IND\"])]"
   ]
  },
  {
   "cell_type": "code",
   "execution_count": null,
   "metadata": {},
   "outputs": [],
   "source": [
    "#validamos que efectivamente solo tenemos la data que queriamos filtar\n",
    "df.groupby(by=\"Origin\")[\"Origin\"].count()"
   ]
  },
  {
   "cell_type": "code",
   "execution_count": null,
   "metadata": {},
   "outputs": [],
   "source": [
    "#reordemamos la base de datos \n",
    "df=df.sample(frac=1)"
   ]
  },
  {
   "cell_type": "code",
   "execution_count": null,
   "metadata": {},
   "outputs": [],
   "source": [
    "#seleccionamos las primeras 10000 filas xq un test con mas no tiene demasiado sentido \n",
    "df=df[0:10000]"
   ]
  },
  {
   "cell_type": "code",
   "execution_count": null,
   "metadata": {},
   "outputs": [],
   "source": [
    "#Creamos una nueva columna \n",
    "df[\"BigDelay\"]=df[\"ArrDelay\"]>30"
   ]
  },
  {
   "cell_type": "code",
   "execution_count": null,
   "metadata": {
    "scrolled": true
   },
   "outputs": [],
   "source": [
    "observados=pd.crosstab(index=df['BigDelay'],columns=df['Origin'],margins=True)"
   ]
  },
  {
   "cell_type": "code",
   "execution_count": null,
   "metadata": {},
   "outputs": [],
   "source": [
    "#Creamos una tabla de contingencia clasicas \n",
    "#las all son los margenes\n",
    "observados=pd.crosstab(index=df.BigDelay,columns=df.Origin,margins=True)"
   ]
  },
  {
   "cell_type": "code",
   "execution_count": null,
   "metadata": {},
   "outputs": [],
   "source": [
    "observados"
   ]
  },
  {
   "cell_type": "code",
   "execution_count": null,
   "metadata": {},
   "outputs": [],
   "source": [
    "#paquete para el analisis\n",
    "from scipy.stats import chi2_contingency"
   ]
  },
  {
   "cell_type": "code",
   "execution_count": null,
   "metadata": {},
   "outputs": [],
   "source": [
    "test=chi2_contingency(observados)"
   ]
  },
  {
   "cell_type": "code",
   "execution_count": null,
   "metadata": {},
   "outputs": [],
   "source": [
    "test"
   ]
  },
  {
   "cell_type": "code",
   "execution_count": null,
   "metadata": {},
   "outputs": [],
   "source": [
    "#convertimos en un dataframe\n",
    "esperados=pd.DataFrame(test[3])\n",
    "esperados"
   ]
  },
  {
   "cell_type": "code",
   "execution_count": null,
   "metadata": {},
   "outputs": [],
   "source": [
    "#aplicamos la funcion apply para crear valores relativos y redondeamos\n",
    "esperados_rl=round(esperados.apply(lambda r:r/len(df)*100,axis=1),2)\n",
    "esperados_rl"
   ]
  },
  {
   "cell_type": "code",
   "execution_count": null,
   "metadata": {},
   "outputs": [],
   "source": [
    "#aplicamos la funcion apply para crear valores relativos y redondeamos\n",
    "#los margenes de lo observado vs lo esperado se deben mantener \n",
    "observados_rl=round(observados.apply(lambda r:r/len(df)*100,axis=1),2)\n",
    "observados_rl"
   ]
  },
  {
   "cell_type": "code",
   "execution_count": null,
   "metadata": {},
   "outputs": [],
   "source": [
    "#si el p-valor <0.05 hay diferencias significativas: hay relacion entre las variables \n",
    "#si el p-valor >0.05 no hay diferencias significativas: no hay relacion entre las variables \n",
    "test[1]"
   ]
  }
 ],
 "metadata": {
  "kernelspec": {
   "display_name": "Python 3",
   "language": "python",
   "name": "python3"
  },
  "language_info": {
   "codemirror_mode": {
    "name": "ipython",
    "version": 3
   },
   "file_extension": ".py",
   "mimetype": "text/x-python",
   "name": "python",
   "nbconvert_exporter": "python",
   "pygments_lexer": "ipython3",
   "version": "3.7.4"
  }
 },
 "nbformat": 4,
 "nbformat_minor": 2
}
