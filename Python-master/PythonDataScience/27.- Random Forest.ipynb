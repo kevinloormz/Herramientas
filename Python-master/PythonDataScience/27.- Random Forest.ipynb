{
 "cells": [
  {
   "cell_type": "code",
   "execution_count": 2,
   "metadata": {},
   "outputs": [],
   "source": [
    "import pandas as pd \n",
    "import numpy as np \n",
    "from sklearn import tree\n",
    "from sklearn.ensemble import RandomForestClassifier\n"
   ]
  },
  {
   "cell_type": "code",
   "execution_count": 3,
   "metadata": {},
   "outputs": [],
   "source": [
    "df=pd.read_csv('base_datos_2008.csv')\n",
    "df=df.dropna(subset=[\"ArrDelay\"]) #eliminar los Nan de nuestra variable repuesta que es el retraso de los vuelos a su llegada\n",
    "df=df.sample(frac=1) #reordenar \n",
    "dftest=df.tail(500000)#Ultimo medio millon de casos \n",
    "df=df.head(500000) #primero medio millon de casos "
   ]
  },
  {
   "cell_type": "code",
   "execution_count": 4,
   "metadata": {},
   "outputs": [],
   "source": [
    "clf=tree.DecisionTreeClassifier()\n",
    "x_df=df[[\"Distance\",\"AirTime\",\"DepTime\",\"TaxiIn\",\"TaxiOut\",\"DepDelay\"]] #variables regresoras todas cuantitativas\n",
    "x_test=dftest[[\"Distance\",\"AirTime\",\"DepTime\",\"TaxiIn\",\"TaxiOut\",\"DepDelay\"]]\n",
    "y_df=df[\"ArrDelay\"]>10 #variables repuestas \n",
    "y_test=dftest[\"ArrDelay\"]>10"
   ]
  },
  {
   "cell_type": "code",
   "execution_count": 5,
   "metadata": {},
   "outputs": [],
   "source": [
    "clf=clf.fit(x_df,y_df)"
   ]
  },
  {
   "cell_type": "code",
   "execution_count": 6,
   "metadata": {},
   "outputs": [],
   "source": [
    "y_pred_test=clf.predict(x_test)"
   ]
  },
  {
   "cell_type": "code",
   "execution_count": 7,
   "metadata": {},
   "outputs": [
    {
     "data": {
      "text/plain": [
       "0.892762"
      ]
     },
     "execution_count": 7,
     "metadata": {},
     "output_type": "execute_result"
    }
   ],
   "source": [
    "np.mean(y_test==y_pred_test)"
   ]
  },
  {
   "cell_type": "code",
   "execution_count": 8,
   "metadata": {},
   "outputs": [],
   "source": [
    "clf= RandomForestClassifier(n_estimators=100,n_jobs=-1) #no es recomendable mas arboles jobs todos los nucleos disponible \n",
    "clf.fit(x_df,y_df)\n",
    "y_pred_test=clf.predict(x_test)"
   ]
  },
  {
   "cell_type": "code",
   "execution_count": 9,
   "metadata": {},
   "outputs": [
    {
     "data": {
      "text/plain": [
       "array([0.09180631, 0.08144805, 0.08369075, 0.05055185, 0.13367067,\n",
       "       0.55883238])"
      ]
     },
     "execution_count": 9,
     "metadata": {},
     "output_type": "execute_result"
    }
   ],
   "source": [
    "clf.feature_importances_ #las variables que mas importan en porcentaje y en orden segun las variables regresoras"
   ]
  },
  {
   "cell_type": "code",
   "execution_count": 10,
   "metadata": {},
   "outputs": [
    {
     "data": {
      "text/plain": [
       "0.923284"
      ]
     },
     "execution_count": 10,
     "metadata": {},
     "output_type": "execute_result"
    }
   ],
   "source": [
    "np.mean(y_test==y_pred_test)"
   ]
  },
  {
   "cell_type": "code",
   "execution_count": null,
   "metadata": {},
   "outputs": [],
   "source": [
    "#si nuestra variable fuera numerica se debe crear el modelo con Ran\n",
    "#RandomForestRegressor()\n",
    "#para validar el modelo se puede usar el r cuadrado "
   ]
  },
  {
   "cell_type": "code",
   "execution_count": null,
   "metadata": {},
   "outputs": [],
   "source": [
    "clf="
   ]
  }
 ],
 "metadata": {
  "kernelspec": {
   "display_name": "Python 3",
   "language": "python",
   "name": "python3"
  },
  "language_info": {
   "codemirror_mode": {
    "name": "ipython",
    "version": 3
   },
   "file_extension": ".py",
   "mimetype": "text/x-python",
   "name": "python",
   "nbconvert_exporter": "python",
   "pygments_lexer": "ipython3",
   "version": "3.7.4"
  }
 },
 "nbformat": 4,
 "nbformat_minor": 2
}
