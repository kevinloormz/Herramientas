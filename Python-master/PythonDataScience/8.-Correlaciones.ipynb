{
 "cells": [
  {
   "cell_type": "code",
   "execution_count": null,
   "metadata": {},
   "outputs": [],
   "source": [
    "#correlacion no implica causalidad\n",
    "#no sirve para encontrar explicaciones \n",
    "#sirve para decir a esta corelacionado positivamente con b y poder cuantificar \n",
    "#es una relacion lineal entre dos variables cuantitativa\n",
    "#puede tomar valores entre -1 y 1 cuanto mas fuerte de estos extremos se encuentre mas fuerte sera la relacion\n",
    "#normalmente los valores entre -0.3 y 0.3 son considerados muy bajos \n",
    "#fuertes son a partir de  -0.7 y 0.7\n",
    "import pandas as pd\n",
    "import numpy as np\n",
    "df = pd.read_csv(\"C:/Users/dell/OneDrive - Universidad de Guayaquil/Analista de datos - Linkedin Learning/base_datos_2008.csv\",nrows=100000)"
   ]
  },
  {
   "cell_type": "code",
   "execution_count": null,
   "metadata": {},
   "outputs": [],
   "source": [
    "df.columns"
   ]
  },
  {
   "cell_type": "code",
   "execution_count": null,
   "metadata": {},
   "outputs": [],
   "source": [
    "#0.94 estan altamente correlacionada \n",
    "np.corrcoef(df[\"ArrDelay\"],df[\"DepDelay\"])"
   ]
  },
  {
   "cell_type": "code",
   "execution_count": null,
   "metadata": {},
   "outputs": [],
   "source": [
    "#primero se debe eliminar los NaN de las columnas donde se desea ver la correlacion\n",
    "df.dropna(subset=[\"ArrDelay\",\"DepDelay\"],inplace=True)"
   ]
  },
  {
   "cell_type": "code",
   "execution_count": null,
   "metadata": {},
   "outputs": [],
   "source": [
    "#tambien se puede usar pandas para medir correlaciones \n",
    "#primero se debe elminar columnas cualitativas\n",
    "df.drop(inplace=True, columns=[\"Year\",\"Cancelled\",\"Diverted\"])\n"
   ]
  },
  {
   "cell_type": "code",
   "execution_count": null,
   "metadata": {},
   "outputs": [],
   "source": [
    "#Luego se aplica la funcion siguiente \n",
    "df.corr()"
   ]
  },
  {
   "cell_type": "code",
   "execution_count": null,
   "metadata": {},
   "outputs": [],
   "source": [
    "#primero vamos a quitar las columnas que nos crean NaN en la matriz\n",
    "df.drop(inplace=True, columns=[\"Month\"])"
   ]
  },
  {
   "cell_type": "code",
   "execution_count": null,
   "metadata": {},
   "outputs": [],
   "source": [
    "#redondeamos la matriz para que no tenga muchos decimales \n",
    "corr=round(df.corr(),3)"
   ]
  },
  {
   "cell_type": "code",
   "execution_count": null,
   "metadata": {},
   "outputs": [],
   "source": [
    "#aplicamos un degradado \n",
    "#las mas intensas estan correlacionadas\n",
    "#se la puede usar para un analisis de exploracion inicial de la base de datos \n",
    "corr.style.background_gradient()"
   ]
  }
 ],
 "metadata": {
  "kernelspec": {
   "display_name": "Python 3",
   "language": "python",
   "name": "python3"
  },
  "language_info": {
   "codemirror_mode": {
    "name": "ipython",
    "version": 3
   },
   "file_extension": ".py",
   "mimetype": "text/x-python",
   "name": "python",
   "nbconvert_exporter": "python",
   "pygments_lexer": "ipython3",
   "version": "3.7.4"
  }
 },
 "nbformat": 4,
 "nbformat_minor": 2
}
