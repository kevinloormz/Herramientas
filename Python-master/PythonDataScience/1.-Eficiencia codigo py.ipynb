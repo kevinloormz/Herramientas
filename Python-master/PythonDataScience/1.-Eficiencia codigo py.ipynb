{
 "cells": [
  {
   "cell_type": "code",
   "execution_count": 4,
   "metadata": {},
   "outputs": [
    {
     "name": "stdout",
     "output_type": "stream",
     "text": [
      "1605279981.7287753\n",
      "1605279991.7313597\n",
      "10.002584457397461\n"
     ]
    }
   ],
   "source": [
    "import time\n",
    "#tiempo preciso de ejecucion de esta linea\n",
    "start=time.time()\n",
    "\n",
    "#nuestro codigo \n",
    "time.sleep(10)\n",
    "\n",
    "\n",
    "end=time.time()\n",
    "\n",
    "\n",
    "print(start)\n",
    "print(end)\n",
    "print(end-start)\n"
   ]
  },
  {
   "cell_type": "code",
   "execution_count": 7,
   "metadata": {},
   "outputs": [
    {
     "name": "stdout",
     "output_type": "stream",
     "text": [
      "0:00:03.016000\n"
     ]
    }
   ],
   "source": [
    "from datetime import timedelta\n",
    "\n",
    "start=time.monotonic()\n",
    "\n",
    "#nuestro codigo \n",
    "time.sleep(3)\n",
    "\n",
    "end = time.monotonic()\n",
    "\n",
    "print(timedelta(seconds=end-start))"
   ]
  },
  {
   "cell_type": "code",
   "execution_count": null,
   "metadata": {},
   "outputs": [],
   "source": []
  }
 ],
 "metadata": {
  "kernelspec": {
   "display_name": "Python 3",
   "language": "python",
   "name": "python3"
  },
  "language_info": {
   "codemirror_mode": {
    "name": "ipython",
    "version": 3
   },
   "file_extension": ".py",
   "mimetype": "text/x-python",
   "name": "python",
   "nbconvert_exporter": "python",
   "pygments_lexer": "ipython3",
   "version": "3.7.4"
  }
 },
 "nbformat": 4,
 "nbformat_minor": 2
}
