{
 "cells": [
  {
   "cell_type": "code",
   "execution_count": null,
   "metadata": {},
   "outputs": [],
   "source": [
    "import pandas as pd\n",
    "import numpy as np\n",
    "import seaborn as sns\n",
    "import matplotlib.pyplot as plt\n",
    "df = pd.read_csv(\"C:/Users/dell/OneDrive - Universidad de Guayaquil/Analista de datos - Linkedin Learning/base_datos_2008.csv\",nrows=1000000)"
   ]
  },
  {
   "cell_type": "code",
   "execution_count": null,
   "metadata": {},
   "outputs": [],
   "source": [
    "#numeros de vuelos unicos \n",
    "\n",
    "data=np.unique(df.DayOfWeek,return_counts=True)"
   ]
  },
  {
   "cell_type": "code",
   "execution_count": null,
   "metadata": {},
   "outputs": [],
   "source": [
    "labels=[\"lun\",\"mar\",\"mie\",\"jue\",\"vie\",\"sab\",\"dom\"]"
   ]
  },
  {
   "cell_type": "code",
   "execution_count": null,
   "metadata": {},
   "outputs": [],
   "source": [
    "plt.pie(data[1],labels=data[0],radius=1.5,startangle=90)\n",
    "plt.show()"
   ]
  },
  {
   "cell_type": "code",
   "execution_count": null,
   "metadata": {},
   "outputs": [],
   "source": [
    "#mejorando el grafico\n",
    "plt.pie(data[1],\n",
    "       # labels=labels,\n",
    "        radius=.6,\n",
    "        startangle=90,\n",
    "        colors=sns.color_palette(\"hls\",7),\n",
    "        explode=(0,0,0,0,0,0,0.1),\n",
    "        autopct=\"%1.1f%%\",\n",
    "        #labeldistance=1\n",
    "       )\n",
    "plt.legend(loc=\"upper right\",labels=labels)\n",
    "plt.show()"
   ]
  },
  {
   "cell_type": "code",
   "execution_count": null,
   "metadata": {},
   "outputs": [],
   "source": [
    "#mejor grafico usando seaborn \n",
    "plt=sns.barplot(x=labels,y=data[1])\n",
    "plt.set(xlabel=\"Dia de la semana \",ylabel=\"Numero de vuelos\")"
   ]
  }
 ],
 "metadata": {
  "kernelspec": {
   "display_name": "Python 3",
   "language": "python",
   "name": "python3"
  },
  "language_info": {
   "codemirror_mode": {
    "name": "ipython",
    "version": 3
   },
   "file_extension": ".py",
   "mimetype": "text/x-python",
   "name": "python",
   "nbconvert_exporter": "python",
   "pygments_lexer": "ipython3",
   "version": "3.7.4"
  }
 },
 "nbformat": 4,
 "nbformat_minor": 2
}
