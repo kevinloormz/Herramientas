{
 "cells": [
  {
   "cell_type": "code",
   "execution_count": 1,
   "metadata": {},
   "outputs": [],
   "source": [
    "import findspark\n",
    "findspark.init()\n",
    "from pyspark import SparkConf,SparkContext\n",
    "conf=SparkConf().setMaster(\"local\").setAppName(\"Mi programa\")\n",
    "sc=SparkContext(conf=conf)\n",
    "from pyspark.sql.types import StringType\n",
    "from pyspark import SQLContext\n",
    "sql_context=SQLContext(sc)\n",
    "df_spark= sql_context.read.format(\"csv\").option(\"header\",\"true\").option(\"inferSchema\",\"true\").load(\"base_datos_2008.csv\")"
   ]
  },
  {
   "cell_type": "code",
   "execution_count": 2,
   "metadata": {},
   "outputs": [],
   "source": [
    "df_spark=df_spark.sample(fraction=0.001,withReplacement=False)\n",
    "df_spark=df_spark.withColumn(\"ArrDelay\",df_spark[\"ArrDelay\"].cast(\"integer\"))\n",
    "\n",
    "df2=df_spark.na.drop(subset=[\"ArrDelay\",\"DepDelay\",\"Distance\"])\n",
    "df2=df2.filter(\"ArrDelay is not NULL\")\n",
    "df2=df2.dropDuplicates()"
   ]
  },
  {
   "cell_type": "code",
   "execution_count": 3,
   "metadata": {},
   "outputs": [
    {
     "data": {
      "text/plain": [
       "[Row(ArrDelay=73),\n",
       " Row(ArrDelay=77),\n",
       " Row(ArrDelay=129),\n",
       " Row(ArrDelay=216),\n",
       " Row(ArrDelay=571)]"
      ]
     },
     "execution_count": 3,
     "metadata": {},
     "output_type": "execute_result"
    }
   ],
   "source": [
    "df2.select(\"ArrDelay\").filter(\"ArrDelay>60\").take(5)"
   ]
  },
  {
   "cell_type": "code",
   "execution_count": 4,
   "metadata": {},
   "outputs": [
    {
     "data": {
      "text/plain": [
       "Row(ArrDelay=73)"
      ]
     },
     "execution_count": 4,
     "metadata": {},
     "output_type": "execute_result"
    }
   ],
   "source": [
    "#nos devuelve exactamente el valor \n",
    "df2.select(\"ArrDelay\").filter(\"ArrDelay>60\").take(5)[0]"
   ]
  },
  {
   "cell_type": "code",
   "execution_count": 5,
   "metadata": {},
   "outputs": [],
   "source": [
    "import numpy as np\n",
    "media=np.mean(df2.select(\"ArrDelay\").collect())"
   ]
  },
  {
   "cell_type": "code",
   "execution_count": 6,
   "metadata": {},
   "outputs": [
    {
     "data": {
      "text/plain": [
       "[array([23.33101313]),\n",
       " array([4117.76082625]),\n",
       " array([667.20020044]),\n",
       " array([719.86063793]),\n",
       " array([521.21888797]),\n",
       " array([354.577138]),\n",
       " array([219.93538804]),\n",
       " array([139.95407557]),\n",
       " array([33.99145062]),\n",
       " array([164.61451306])]"
      ]
     },
     "execution_count": 6,
     "metadata": {},
     "output_type": "execute_result"
    }
   ],
   "source": [
    "df2.select(\"ArrDelay\").rdd.map(lambda x: (x-media)**2).take(10)"
   ]
  },
  {
   "cell_type": "code",
   "execution_count": 8,
   "metadata": {},
   "outputs": [
    {
     "name": "stdout",
     "output_type": "stream",
     "text": [
      "root\n",
      " |-- Year: integer (nullable = true)\n",
      " |-- Month: integer (nullable = true)\n",
      " |-- DayofMonth: integer (nullable = true)\n",
      " |-- DayOfWeek: integer (nullable = true)\n",
      " |-- DepTime: string (nullable = true)\n",
      " |-- CRSDepTime: integer (nullable = true)\n",
      " |-- ArrTime: string (nullable = true)\n",
      " |-- CRSArrTime: integer (nullable = true)\n",
      " |-- UniqueCarrier: string (nullable = true)\n",
      " |-- FlightNum: integer (nullable = true)\n",
      " |-- TailNum: string (nullable = true)\n",
      " |-- ActualElapsedTime: string (nullable = true)\n",
      " |-- CRSElapsedTime: string (nullable = true)\n",
      " |-- AirTime: string (nullable = true)\n",
      " |-- ArrDelay: integer (nullable = true)\n",
      " |-- DepDelay: string (nullable = true)\n",
      " |-- Origin: string (nullable = true)\n",
      " |-- Dest: string (nullable = true)\n",
      " |-- Distance: integer (nullable = true)\n",
      " |-- TaxiIn: string (nullable = true)\n",
      " |-- TaxiOut: string (nullable = true)\n",
      " |-- Cancelled: integer (nullable = true)\n",
      " |-- CancellationCode: string (nullable = true)\n",
      " |-- Diverted: integer (nullable = true)\n",
      " |-- CarrierDelay: string (nullable = true)\n",
      " |-- WeatherDelay: string (nullable = true)\n",
      " |-- NASDelay: string (nullable = true)\n",
      " |-- SecurityDelay: string (nullable = true)\n",
      " |-- LateAircraftDelay: string (nullable = true)\n",
      "\n"
     ]
    }
   ],
   "source": [
    "df2.printSchema()"
   ]
  },
  {
   "cell_type": "code",
   "execution_count": 9,
   "metadata": {},
   "outputs": [
    {
     "name": "stdout",
     "output_type": "stream",
     "text": [
      "+---------+-----+\n",
      "|DayOfWeek|count|\n",
      "+---------+-----+\n",
      "|        1|  979|\n",
      "|        6|  808|\n",
      "|        3| 1050|\n",
      "|        5| 1067|\n",
      "|        4| 1005|\n",
      "|        7|  993|\n",
      "|        2| 1001|\n",
      "+---------+-----+\n",
      "\n"
     ]
    }
   ],
   "source": [
    "df2.groupBy(\"DayOfWeek\").count().show()"
   ]
  },
  {
   "cell_type": "code",
   "execution_count": 10,
   "metadata": {},
   "outputs": [
    {
     "name": "stdout",
     "output_type": "stream",
     "text": [
      "+---------+------------------+\n",
      "|DayOfWeek|     avg(ArrDelay)|\n",
      "+---------+------------------+\n",
      "|        1| 9.231869254341165|\n",
      "|        6|             5.375|\n",
      "|        3| 7.791428571428572|\n",
      "|        5|10.925960637300843|\n",
      "|        4|10.080597014925374|\n",
      "|        7| 9.342396777442096|\n",
      "|        2|  8.31868131868132|\n",
      "+---------+------------------+\n",
      "\n"
     ]
    }
   ],
   "source": [
    "df2.groupBy(\"DayOfWeek\").mean(\"ArrDelay\").show()"
   ]
  },
  {
   "cell_type": "code",
   "execution_count": 11,
   "metadata": {},
   "outputs": [
    {
     "data": {
      "text/plain": [
       "[Row(Origin='PIT'),\n",
       " Row(Origin='FSM'),\n",
       " Row(Origin='SMF'),\n",
       " Row(Origin='CWA'),\n",
       " Row(Origin='AUS')]"
      ]
     },
     "execution_count": 11,
     "metadata": {},
     "output_type": "execute_result"
    }
   ],
   "source": [
    "df2.select(\"Origin\").rdd.distinct().take(5)"
   ]
  },
  {
   "cell_type": "code",
   "execution_count": 12,
   "metadata": {},
   "outputs": [
    {
     "data": {
      "text/plain": [
       "237"
      ]
     },
     "execution_count": 12,
     "metadata": {},
     "output_type": "execute_result"
    }
   ],
   "source": [
    "df2.select(\"Origin\").rdd.distinct().count()"
   ]
  },
  {
   "cell_type": "code",
   "execution_count": 13,
   "metadata": {},
   "outputs": [
    {
     "data": {
      "text/plain": [
       "[Row(Year=2008, Month=10, DayofMonth=16, DayOfWeek=4, DepTime='716', CRSDepTime=845, ArrTime='1238', CRSArrTime=1412, UniqueCarrier='NW', FlightNum=394, TailNum='N353NW', ActualElapsedTime='202', CRSElapsedTime='207', AirTime='184', ArrDelay=1346, DepDelay='1351', Origin='SMF', Dest='MSP', Distance=1518, TaxiIn='6', TaxiOut='12', Cancelled=0, CancellationCode=None, Diverted=0, CarrierDelay='1346', WeatherDelay='0', NASDelay='0', SecurityDelay='0', LateAircraftDelay='0'),\n",
       " Row(Year=2008, Month=8, DayofMonth=10, DayOfWeek=7, DepTime='138', CRSDepTime=1545, ArrTime='241', CRSArrTime=1710, UniqueCarrier='WN', FlightNum=293, TailNum='N276WN', ActualElapsedTime='63', CRSElapsedTime='85', AirTime='45', ArrDelay=571, DepDelay='593', Origin='PVD', Dest='PHL', Distance=238, TaxiIn='5', TaxiOut='13', Cancelled=0, CancellationCode=None, Diverted=0, CarrierDelay='34', WeatherDelay='0', NASDelay='0', SecurityDelay='0', LateAircraftDelay='537'),\n",
       " Row(Year=2008, Month=6, DayofMonth=1, DayOfWeek=7, DepTime='1622', CRSDepTime=800, ArrTime='1809', CRSArrTime=951, UniqueCarrier='NW', FlightNum=1212, TailNum='N327NB', ActualElapsedTime='167', CRSElapsedTime='171', AirTime='142', ArrDelay=498, DepDelay='502', Origin='BDL', Dest='MSP', Distance=1050, TaxiIn='9', TaxiOut='16', Cancelled=0, CancellationCode=None, Diverted=0, CarrierDelay='498', WeatherDelay='0', NASDelay='0', SecurityDelay='0', LateAircraftDelay='0'),\n",
       " Row(Year=2008, Month=1, DayofMonth=29, DayOfWeek=2, DepTime='424', CRSDepTime=2032, ArrTime='522', CRSArrTime=2140, UniqueCarrier='OO', FlightNum=6483, TailNum='N710SK', ActualElapsedTime='118', CRSElapsedTime='128', AirTime='87', ArrDelay=462, DepDelay='472', Origin='BOI', Dest='LAX', Distance=674, TaxiIn='5', TaxiOut='26', Cancelled=0, CancellationCode=None, Diverted=0, CarrierDelay='0', WeatherDelay='0', NASDelay='0', SecurityDelay='0', LateAircraftDelay='462'),\n",
       " Row(Year=2008, Month=2, DayofMonth=25, DayOfWeek=1, DepTime='1813', CRSDepTime=1110, ArrTime='2049', CRSArrTime=1339, UniqueCarrier='NW', FlightNum=1077, TailNum='N923RW', ActualElapsedTime='156', CRSElapsedTime='149', AirTime='122', ArrDelay=430, DepDelay='423', Origin='TPA', Dest='IND', Distance=838, TaxiIn='20', TaxiOut='14', Cancelled=0, CancellationCode=None, Diverted=0, CarrierDelay='423', WeatherDelay='0', NASDelay='7', SecurityDelay='0', LateAircraftDelay='0')]"
      ]
     },
     "execution_count": 13,
     "metadata": {},
     "output_type": "execute_result"
    }
   ],
   "source": [
    "df2.orderBy(df2.ArrDelay.desc()).take(5)"
   ]
  }
 ],
 "metadata": {
  "kernelspec": {
   "display_name": "Python 3",
   "language": "python",
   "name": "python3"
  },
  "language_info": {
   "codemirror_mode": {
    "name": "ipython",
    "version": 3
   },
   "file_extension": ".py",
   "mimetype": "text/x-python",
   "name": "python",
   "nbconvert_exporter": "python",
   "pygments_lexer": "ipython3",
   "version": "3.7.4"
  }
 },
 "nbformat": 4,
 "nbformat_minor": 2
}
