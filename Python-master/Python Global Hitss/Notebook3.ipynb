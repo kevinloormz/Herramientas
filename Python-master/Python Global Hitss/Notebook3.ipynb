{
  "nbformat": 4,
  "nbformat_minor": 0,
  "metadata": {
    "colab": {
      "name": "Notebook3.ipynb",
      "provenance": []
    },
    "kernelspec": {
      "name": "python3",
      "display_name": "Python 3"
    }
  },
  "cells": [
    {
      "cell_type": "code",
      "metadata": {
        "id": "4prTfC-dkuBB",
        "colab_type": "code",
        "colab": {}
      },
      "source": [
        ""
      ],
      "execution_count": 0,
      "outputs": []
    },
    {
      "cell_type": "markdown",
      "metadata": {
        "id": "AbX8zQEClDBM",
        "colab_type": "text"
      },
      "source": [
        "Control de Flujo"
      ]
    },
    {
      "cell_type": "code",
      "metadata": {
        "id": "mOdkJVC3lGxY",
        "colab_type": "code",
        "outputId": "09cb3737-a6e1-4bb0-8d94-3a5ab9f88a1a",
        "colab": {
          "base_uri": "https://localhost:8080/",
          "height": 34
        }
      },
      "source": [
        "a=20\n",
        "b=30\n",
        "\n",
        "if a>b:\n",
        "  print(\"a>b\")\n",
        "elif a<b:\n",
        "  print(\"a<b\")\n",
        "else:\n",
        "  print(\"a=b\")"
      ],
      "execution_count": 0,
      "outputs": [
        {
          "output_type": "stream",
          "text": [
            "a<b\n"
          ],
          "name": "stdout"
        }
      ]
    },
    {
      "cell_type": "code",
      "metadata": {
        "id": "yhhgzkcUlyBp",
        "colab_type": "code",
        "outputId": "ba214285-69e2-4872-c1f9-1b8c31114951",
        "colab": {
          "base_uri": "https://localhost:8080/",
          "height": 34
        }
      },
      "source": [
        "a=20\n",
        "b=30\n",
        "\n",
        "print(\"a>b\") if a>b else print(\"es diferente\")"
      ],
      "execution_count": 0,
      "outputs": [
        {
          "output_type": "stream",
          "text": [
            "es diferente\n"
          ],
          "name": "stdout"
        }
      ]
    },
    {
      "cell_type": "code",
      "metadata": {
        "id": "-JQuH_YBmSsx",
        "colab_type": "code",
        "outputId": "d932595d-7dea-4a6b-9f77-c0d4cc174b07",
        "colab": {
          "base_uri": "https://localhost:8080/",
          "height": 67
        }
      },
      "source": [
        "i=1\n",
        "while i<6:\n",
        "  i+=1\n",
        "  print(i)\n",
        "  if i==4: break\n"
      ],
      "execution_count": 0,
      "outputs": [
        {
          "output_type": "stream",
          "text": [
            "2\n",
            "3\n",
            "4\n"
          ],
          "name": "stdout"
        }
      ]
    },
    {
      "cell_type": "code",
      "metadata": {
        "id": "UfadDpKHmvTi",
        "colab_type": "code",
        "outputId": "725796ea-969c-417e-8d32-71cd83061a35",
        "colab": {
          "base_uri": "https://localhost:8080/",
          "height": 69
        }
      },
      "source": [
        "f=['a','b','c']\n",
        "for x in f:\n",
        "  print(x)"
      ],
      "execution_count": 0,
      "outputs": [
        {
          "output_type": "stream",
          "text": [
            "a\n",
            "b\n",
            "c\n"
          ],
          "name": "stdout"
        }
      ]
    },
    {
      "cell_type": "code",
      "metadata": {
        "id": "ki5uVNSym6pY",
        "colab_type": "code",
        "outputId": "dfad38d1-66eb-48ea-9b1c-e16ff4eb3578",
        "colab": {
          "base_uri": "https://localhost:8080/",
          "height": 118
        }
      },
      "source": [
        "for x in range(6):\n",
        "  print(x)"
      ],
      "execution_count": 0,
      "outputs": [
        {
          "output_type": "stream",
          "text": [
            "0\n",
            "1\n",
            "2\n",
            "3\n",
            "4\n",
            "5\n"
          ],
          "name": "stdout"
        }
      ]
    },
    {
      "cell_type": "code",
      "metadata": {
        "id": "96ZfQzS4nCNv",
        "colab_type": "code",
        "outputId": "a4ba433e-0ad1-4598-9f79-60762b4f8015",
        "colab": {
          "base_uri": "https://localhost:8080/",
          "height": 84
        }
      },
      "source": [
        "for x in range(2,6):\n",
        "  print(x)"
      ],
      "execution_count": 0,
      "outputs": [
        {
          "output_type": "stream",
          "text": [
            "2\n",
            "3\n",
            "4\n",
            "5\n"
          ],
          "name": "stdout"
        }
      ]
    },
    {
      "cell_type": "code",
      "metadata": {
        "id": "d9AtUNu3nPGj",
        "colab_type": "code",
        "outputId": "298fe6d0-0ebb-45b5-c205-e7238051d120",
        "colab": {
          "base_uri": "https://localhost:8080/",
          "height": 353
        }
      },
      "source": [
        "for x in range(2,60,3):\n",
        "  print(x)"
      ],
      "execution_count": 0,
      "outputs": [
        {
          "output_type": "stream",
          "text": [
            "2\n",
            "5\n",
            "8\n",
            "11\n",
            "14\n",
            "17\n",
            "20\n",
            "23\n",
            "26\n",
            "29\n",
            "32\n",
            "35\n",
            "38\n",
            "41\n",
            "44\n",
            "47\n",
            "50\n",
            "53\n",
            "56\n",
            "59\n"
          ],
          "name": "stdout"
        }
      ]
    },
    {
      "cell_type": "code",
      "metadata": {
        "id": "nl7VKSdGniDJ",
        "colab_type": "code",
        "outputId": "f83fc4f0-7fa3-4958-8930-92843be4cff3",
        "colab": {
          "base_uri": "https://localhost:8080/",
          "height": 34
        }
      },
      "source": [
        "x = lambda a:a+10\n",
        "print(x(5))\n",
        "\n",
        "\n",
        "#def x(n):\n",
        "#  return(n+10)"
      ],
      "execution_count": 0,
      "outputs": [
        {
          "output_type": "stream",
          "text": [
            "15\n"
          ],
          "name": "stdout"
        }
      ]
    },
    {
      "cell_type": "code",
      "metadata": {
        "id": "D6pC8ko8n6so",
        "colab_type": "code",
        "outputId": "9ba51e63-3328-4653-ba3b-0ee9c0629b96",
        "colab": {
          "base_uri": "https://localhost:8080/",
          "height": 50
        }
      },
      "source": [
        "x = lambda a,b:a*b\n",
        "print(x(3,4))\n",
        "\n",
        "x= lambda a,b,c: a+b+c\n",
        "print(x(1,2,3))"
      ],
      "execution_count": 0,
      "outputs": [
        {
          "output_type": "stream",
          "text": [
            "12\n",
            "6\n"
          ],
          "name": "stdout"
        }
      ]
    },
    {
      "cell_type": "code",
      "metadata": {
        "id": "fGjJDGTjoqnd",
        "colab_type": "code",
        "outputId": "2e6c5a20-8dc4-400d-f2c2-bb0ee05e65ef",
        "colab": {
          "base_uri": "https://localhost:8080/",
          "height": 50
        }
      },
      "source": [
        "def myfunc(n):\n",
        "  return lambda a:a*n \n",
        "\n",
        "mydouble=myfunc(2)\n",
        "mytriple=myfunc(3)\n",
        "\n",
        "print(mydouble(3))\n",
        "print(mytriple(4))\n"
      ],
      "execution_count": 0,
      "outputs": [
        {
          "output_type": "stream",
          "text": [
            "6\n",
            "12\n"
          ],
          "name": "stdout"
        }
      ]
    },
    {
      "cell_type": "markdown",
      "metadata": {
        "id": "2XS4OWhWpoEc",
        "colab_type": "text"
      },
      "source": [
        "**Numpy**"
      ]
    },
    {
      "cell_type": "code",
      "metadata": {
        "id": "4ESfz3utpryb",
        "colab_type": "code",
        "outputId": "d62cafbe-2572-41c9-d783-e8b533ddaced",
        "colab": {
          "base_uri": "https://localhost:8080/",
          "height": 118
        }
      },
      "source": [
        "import numpy as np\n",
        "\n",
        "data=np.random.randn(2,3)\n",
        "print(data)\n",
        "print(data*10)\n",
        "print(data+data)"
      ],
      "execution_count": 0,
      "outputs": [
        {
          "output_type": "stream",
          "text": [
            "[[-1.09977567 -2.57068608  1.62714333]\n",
            " [-0.51166188  0.43870462  1.06800458]]\n",
            "[[-10.99775671 -25.70686076  16.27143332]\n",
            " [ -5.11661883   4.38704622  10.68004578]]\n",
            "[[-2.19955134 -5.14137215  3.25428666]\n",
            " [-1.02332377  0.87740924  2.13600916]]\n"
          ],
          "name": "stdout"
        }
      ]
    },
    {
      "cell_type": "code",
      "metadata": {
        "id": "x7YsMqkgqU58",
        "colab_type": "code",
        "outputId": "07004c96-4746-45bb-bd1c-e71b8fa21478",
        "colab": {
          "base_uri": "https://localhost:8080/",
          "height": 34
        }
      },
      "source": [
        "data.shape"
      ],
      "execution_count": 0,
      "outputs": [
        {
          "output_type": "execute_result",
          "data": {
            "text/plain": [
              "(2, 3)"
            ]
          },
          "metadata": {
            "tags": []
          },
          "execution_count": 20
        }
      ]
    },
    {
      "cell_type": "code",
      "metadata": {
        "id": "8rrJ6xYsqaHH",
        "colab_type": "code",
        "outputId": "ff7b5c51-320e-4daf-b679-d4aca61dd46b",
        "colab": {
          "base_uri": "https://localhost:8080/",
          "height": 34
        }
      },
      "source": [
        "data.dtype"
      ],
      "execution_count": 0,
      "outputs": [
        {
          "output_type": "execute_result",
          "data": {
            "text/plain": [
              "dtype('float64')"
            ]
          },
          "metadata": {
            "tags": []
          },
          "execution_count": 21
        }
      ]
    },
    {
      "cell_type": "code",
      "metadata": {
        "id": "esZxbIIUqib-",
        "colab_type": "code",
        "outputId": "b08ec1f2-feab-45ec-8e8a-c24ba0a12ff8",
        "colab": {
          "base_uri": "https://localhost:8080/",
          "height": 34
        }
      },
      "source": [
        "data1=[6,7,8,9,0,2]\n",
        "\n",
        "arr1=np.array(data1)\n",
        "\n",
        "print(arr1)"
      ],
      "execution_count": 0,
      "outputs": [
        {
          "output_type": "stream",
          "text": [
            "[6 7 8 9 0 2]\n"
          ],
          "name": "stdout"
        }
      ]
    },
    {
      "cell_type": "code",
      "metadata": {
        "id": "1pXbl4koq1FM",
        "colab_type": "code",
        "outputId": "2f1eb36f-8e19-4ae5-915a-9b00f5e049a9",
        "colab": {
          "base_uri": "https://localhost:8080/",
          "height": 50
        }
      },
      "source": [
        "data2=[[1,2,3,4,5],[6,7,8,9,0]]\n",
        "arr2=np.array(data2)\n",
        "print(arr2)"
      ],
      "execution_count": 0,
      "outputs": [
        {
          "output_type": "stream",
          "text": [
            "[[1 2 3 4 5]\n",
            " [6 7 8 9 0]]\n"
          ],
          "name": "stdout"
        }
      ]
    },
    {
      "cell_type": "code",
      "metadata": {
        "id": "cscDxOXYrFMj",
        "colab_type": "code",
        "outputId": "79dede90-ea0f-49c0-d091-4904ba608a2d",
        "colab": {
          "base_uri": "https://localhost:8080/",
          "height": 34
        }
      },
      "source": [
        "arr1.shape"
      ],
      "execution_count": 0,
      "outputs": [
        {
          "output_type": "execute_result",
          "data": {
            "text/plain": [
              "(6,)"
            ]
          },
          "metadata": {
            "tags": []
          },
          "execution_count": 25
        }
      ]
    },
    {
      "cell_type": "code",
      "metadata": {
        "id": "TKGudATDrI_P",
        "colab_type": "code",
        "outputId": "98d38a17-54ae-4b62-b7e4-b2e47d31ca69",
        "colab": {
          "base_uri": "https://localhost:8080/",
          "height": 35
        }
      },
      "source": [
        "arr2.shape"
      ],
      "execution_count": 0,
      "outputs": [
        {
          "output_type": "execute_result",
          "data": {
            "text/plain": [
              "(2, 5)"
            ]
          },
          "metadata": {
            "tags": []
          },
          "execution_count": 26
        }
      ]
    },
    {
      "cell_type": "code",
      "metadata": {
        "id": "VWNYsBRir08c",
        "colab_type": "code",
        "outputId": "074fa1c2-a55a-46ed-b443-ae80f4e506fd",
        "colab": {
          "base_uri": "https://localhost:8080/",
          "height": 34
        }
      },
      "source": [
        "arr=np.arange(10)\n",
        "arr"
      ],
      "execution_count": 0,
      "outputs": [
        {
          "output_type": "execute_result",
          "data": {
            "text/plain": [
              "array([0, 1, 2, 3, 4, 5, 6, 7, 8, 9])"
            ]
          },
          "metadata": {
            "tags": []
          },
          "execution_count": 28
        }
      ]
    },
    {
      "cell_type": "code",
      "metadata": {
        "id": "1-aVmy4isC2X",
        "colab_type": "code",
        "outputId": "1c8b49cf-0eae-4bd4-8171-5900638116c2",
        "colab": {
          "base_uri": "https://localhost:8080/",
          "height": 34
        }
      },
      "source": [
        "arr[5]"
      ],
      "execution_count": 0,
      "outputs": [
        {
          "output_type": "execute_result",
          "data": {
            "text/plain": [
              "5"
            ]
          },
          "metadata": {
            "tags": []
          },
          "execution_count": 29
        }
      ]
    },
    {
      "cell_type": "code",
      "metadata": {
        "id": "dxkLCXm0sLT5",
        "colab_type": "code",
        "outputId": "170e7cd8-a6ef-4637-9fe6-6bb918599362",
        "colab": {
          "base_uri": "https://localhost:8080/",
          "height": 34
        }
      },
      "source": [
        "arr[5:8]"
      ],
      "execution_count": 0,
      "outputs": [
        {
          "output_type": "execute_result",
          "data": {
            "text/plain": [
              "array([5, 6, 7])"
            ]
          },
          "metadata": {
            "tags": []
          },
          "execution_count": 30
        }
      ]
    },
    {
      "cell_type": "code",
      "metadata": {
        "id": "UDz7r9fIsRwF",
        "colab_type": "code",
        "outputId": "0ae56a61-b58d-4a91-8e93-892e94895d3f",
        "colab": {
          "base_uri": "https://localhost:8080/",
          "height": 34
        }
      },
      "source": [
        "arr[0:3]=0\n",
        "arr"
      ],
      "execution_count": 0,
      "outputs": [
        {
          "output_type": "execute_result",
          "data": {
            "text/plain": [
              "array([0, 0, 0, 3, 4, 5, 6, 7, 8, 9])"
            ]
          },
          "metadata": {
            "tags": []
          },
          "execution_count": 31
        }
      ]
    },
    {
      "cell_type": "code",
      "metadata": {
        "id": "rzk7xlfysd57",
        "colab_type": "code",
        "outputId": "1aa3a484-cb37-4b8d-98eb-cb50e568e09f",
        "colab": {
          "base_uri": "https://localhost:8080/",
          "height": 34
        }
      },
      "source": [
        "arr[:4]"
      ],
      "execution_count": 0,
      "outputs": [
        {
          "output_type": "execute_result",
          "data": {
            "text/plain": [
              "array([0, 0, 0, 3])"
            ]
          },
          "metadata": {
            "tags": []
          },
          "execution_count": 32
        }
      ]
    },
    {
      "cell_type": "code",
      "metadata": {
        "id": "VjR5ZNb0siCb",
        "colab_type": "code",
        "outputId": "b4d8d215-1592-48ca-b643-be078cc2c4a5",
        "colab": {
          "base_uri": "https://localhost:8080/",
          "height": 34
        }
      },
      "source": [
        "arr[2:]"
      ],
      "execution_count": 0,
      "outputs": [
        {
          "output_type": "execute_result",
          "data": {
            "text/plain": [
              "array([0, 3, 4, 5, 6, 7, 8, 9])"
            ]
          },
          "metadata": {
            "tags": []
          },
          "execution_count": 33
        }
      ]
    },
    {
      "cell_type": "code",
      "metadata": {
        "id": "4sjLG1_TspW9",
        "colab_type": "code",
        "outputId": "d9fee0e4-a097-4403-d48c-afd021ab1ea2",
        "colab": {
          "base_uri": "https://localhost:8080/",
          "height": 34
        }
      },
      "source": [
        "arr[:]"
      ],
      "execution_count": 0,
      "outputs": [
        {
          "output_type": "execute_result",
          "data": {
            "text/plain": [
              "array([0, 0, 0, 3, 4, 5, 6, 7, 8, 9])"
            ]
          },
          "metadata": {
            "tags": []
          },
          "execution_count": 34
        }
      ]
    },
    {
      "cell_type": "code",
      "metadata": {
        "id": "N_IPwIVnswl6",
        "colab_type": "code",
        "outputId": "bb49d779-5b86-45a1-eb81-f0e9e428dad2",
        "colab": {
          "base_uri": "https://localhost:8080/",
          "height": 50
        }
      },
      "source": [
        "arr2d=np.array([[1,2,3,4,5],[6,7,8,9,0]])\n",
        "arr2d"
      ],
      "execution_count": 0,
      "outputs": [
        {
          "output_type": "execute_result",
          "data": {
            "text/plain": [
              "array([[1, 2, 3, 4, 5],\n",
              "       [6, 7, 8, 9, 0]])"
            ]
          },
          "metadata": {
            "tags": []
          },
          "execution_count": 37
        }
      ]
    },
    {
      "cell_type": "code",
      "metadata": {
        "id": "rL74_fQHtEzw",
        "colab_type": "code",
        "outputId": "1d62b646-4e11-4af6-d751-e186648c5a98",
        "colab": {
          "base_uri": "https://localhost:8080/",
          "height": 34
        }
      },
      "source": [
        "arr2d[1]"
      ],
      "execution_count": 0,
      "outputs": [
        {
          "output_type": "execute_result",
          "data": {
            "text/plain": [
              "array([6, 7, 8, 9, 0])"
            ]
          },
          "metadata": {
            "tags": []
          },
          "execution_count": 39
        }
      ]
    },
    {
      "cell_type": "code",
      "metadata": {
        "id": "RsGXu1SKtW8_",
        "colab_type": "code",
        "outputId": "be7d15fb-a4d1-42c4-fdf6-1c1c07d4c98a",
        "colab": {
          "base_uri": "https://localhost:8080/",
          "height": 34
        }
      },
      "source": [
        "arr2d[0][2]"
      ],
      "execution_count": 0,
      "outputs": [
        {
          "output_type": "execute_result",
          "data": {
            "text/plain": [
              "3"
            ]
          },
          "metadata": {
            "tags": []
          },
          "execution_count": 40
        }
      ]
    },
    {
      "cell_type": "code",
      "metadata": {
        "id": "PTT72CTstbe2",
        "colab_type": "code",
        "outputId": "4332fe71-711a-441c-e08e-27acf717bcdf",
        "colab": {
          "base_uri": "https://localhost:8080/",
          "height": 34
        }
      },
      "source": [
        "arr2d[0,2]"
      ],
      "execution_count": 0,
      "outputs": [
        {
          "output_type": "execute_result",
          "data": {
            "text/plain": [
              "3"
            ]
          },
          "metadata": {
            "tags": []
          },
          "execution_count": 41
        }
      ]
    },
    {
      "cell_type": "code",
      "metadata": {
        "id": "23LeUInktt0s",
        "colab_type": "code",
        "outputId": "f6ded594-ccc8-498d-a5a1-fd0a19f1db1d",
        "colab": {
          "base_uri": "https://localhost:8080/",
          "height": 34
        }
      },
      "source": [
        "arr2d[:1,1:]"
      ],
      "execution_count": 0,
      "outputs": [
        {
          "output_type": "execute_result",
          "data": {
            "text/plain": [
              "array([[2, 3, 4, 5]])"
            ]
          },
          "metadata": {
            "tags": []
          },
          "execution_count": 43
        }
      ]
    },
    {
      "cell_type": "code",
      "metadata": {
        "id": "SqyzZaGWt4Pj",
        "colab_type": "code",
        "outputId": "9f3a81a9-dba1-4bb2-faca-a34dd8bc0f48",
        "colab": {
          "base_uri": "https://localhost:8080/",
          "height": 50
        }
      },
      "source": [
        "arr2d[:,:4]"
      ],
      "execution_count": 0,
      "outputs": [
        {
          "output_type": "execute_result",
          "data": {
            "text/plain": [
              "array([[1, 2, 3, 4],\n",
              "       [6, 7, 8, 9]])"
            ]
          },
          "metadata": {
            "tags": []
          },
          "execution_count": 44
        }
      ]
    },
    {
      "cell_type": "code",
      "metadata": {
        "id": "nS61e2QSuKbU",
        "colab_type": "code",
        "colab": {}
      },
      "source": [
        "names=np.array(['Juan', 'Jose', 'Carlos', 'Manuel', 'Maria', 'Andrea', 'Juana'])"
      ],
      "execution_count": 0,
      "outputs": []
    },
    {
      "cell_type": "code",
      "metadata": {
        "id": "GNt1mxxCudFt",
        "colab_type": "code",
        "outputId": "76d24524-7857-4ff5-8c90-1b408611d5f8",
        "colab": {
          "base_uri": "https://localhost:8080/",
          "height": 50
        }
      },
      "source": [
        "names"
      ],
      "execution_count": 0,
      "outputs": [
        {
          "output_type": "execute_result",
          "data": {
            "text/plain": [
              "array(['Juan', 'Jose', 'Carlos', 'Manuel', 'Maria', 'Andrea', 'Juana'],\n",
              "      dtype='<U6')"
            ]
          },
          "metadata": {
            "tags": []
          },
          "execution_count": 46
        }
      ]
    },
    {
      "cell_type": "code",
      "metadata": {
        "id": "NMsnaolkugMy",
        "colab_type": "code",
        "outputId": "741fdd5b-54c8-4e4e-cd70-9071853ec8a3",
        "colab": {
          "base_uri": "https://localhost:8080/",
          "height": 134
        }
      },
      "source": [
        "data=np.random.rand(7,4)\n",
        "data"
      ],
      "execution_count": 0,
      "outputs": [
        {
          "output_type": "execute_result",
          "data": {
            "text/plain": [
              "array([[0.25447005, 0.73454463, 0.55241375, 0.30884296],\n",
              "       [0.54326692, 0.55944243, 0.94917923, 0.15968057],\n",
              "       [0.68714974, 0.88838449, 0.22715255, 0.58803347],\n",
              "       [0.3266428 , 0.87670611, 0.41207588, 0.987085  ],\n",
              "       [0.08218788, 0.15694985, 0.62049799, 0.79876237],\n",
              "       [0.75026182, 0.267113  , 0.94434183, 0.68100552],\n",
              "       [0.1164529 , 0.53177003, 0.94380642, 0.36903003]])"
            ]
          },
          "metadata": {
            "tags": []
          },
          "execution_count": 47
        }
      ]
    },
    {
      "cell_type": "code",
      "metadata": {
        "id": "lsS0ayKMurAr",
        "colab_type": "code",
        "outputId": "4994facc-0a20-4628-fce6-cc98ef20838e",
        "colab": {
          "base_uri": "https://localhost:8080/",
          "height": 34
        }
      },
      "source": [
        "names=='Juan'"
      ],
      "execution_count": 0,
      "outputs": [
        {
          "output_type": "execute_result",
          "data": {
            "text/plain": [
              "array([ True, False, False, False, False, False, False])"
            ]
          },
          "metadata": {
            "tags": []
          },
          "execution_count": 48
        }
      ]
    },
    {
      "cell_type": "code",
      "metadata": {
        "id": "2pEEsl-Tu2Vj",
        "colab_type": "code",
        "outputId": "d4e9e367-c345-4583-edf3-414d524a0c6f",
        "colab": {
          "base_uri": "https://localhost:8080/",
          "height": 34
        }
      },
      "source": [
        "names=='Maria'"
      ],
      "execution_count": 0,
      "outputs": [
        {
          "output_type": "execute_result",
          "data": {
            "text/plain": [
              "array([False, False, False, False,  True, False, False])"
            ]
          },
          "metadata": {
            "tags": []
          },
          "execution_count": 49
        }
      ]
    },
    {
      "cell_type": "code",
      "metadata": {
        "id": "aazyqoMyu69y",
        "colab_type": "code",
        "outputId": "2383a5e9-3a13-4711-dd40-a9a1375bf810",
        "colab": {
          "base_uri": "https://localhost:8080/",
          "height": 34
        }
      },
      "source": [
        "data[names=='Juan']"
      ],
      "execution_count": 0,
      "outputs": [
        {
          "output_type": "execute_result",
          "data": {
            "text/plain": [
              "array([[0.25447005, 0.73454463, 0.55241375, 0.30884296]])"
            ]
          },
          "metadata": {
            "tags": []
          },
          "execution_count": 50
        }
      ]
    },
    {
      "cell_type": "code",
      "metadata": {
        "id": "Eu3vGRiBvJ07",
        "colab_type": "code",
        "outputId": "c64c0ff5-1305-44d1-d0fc-75e9e338a506",
        "colab": {
          "base_uri": "https://localhost:8080/",
          "height": 34
        }
      },
      "source": [
        "data[names=='Juan',2:]"
      ],
      "execution_count": 0,
      "outputs": [
        {
          "output_type": "execute_result",
          "data": {
            "text/plain": [
              "array([[0.55241375, 0.30884296]])"
            ]
          },
          "metadata": {
            "tags": []
          },
          "execution_count": 51
        }
      ]
    },
    {
      "cell_type": "code",
      "metadata": {
        "id": "iJmXPhrvvVCt",
        "colab_type": "code",
        "outputId": "2aa57996-06a8-46b7-f90b-2dafeed5331f",
        "colab": {
          "base_uri": "https://localhost:8080/",
          "height": 50
        }
      },
      "source": [
        "# and es &\n",
        "# or es |\n",
        "# not es ~\n",
        "\n",
        "data[(names=='Juan') | (names=='Maria'),]"
      ],
      "execution_count": 0,
      "outputs": [
        {
          "output_type": "execute_result",
          "data": {
            "text/plain": [
              "array([[0.25447005, 0.73454463, 0.55241375, 0.30884296],\n",
              "       [0.08218788, 0.15694985, 0.62049799, 0.79876237]])"
            ]
          },
          "metadata": {
            "tags": []
          },
          "execution_count": 54
        }
      ]
    },
    {
      "cell_type": "code",
      "metadata": {
        "id": "68hZOEITv2Zt",
        "colab_type": "code",
        "outputId": "acbdecb8-7c88-4920-8ce2-458fb4f74049",
        "colab": {
          "base_uri": "https://localhost:8080/",
          "height": 121
        }
      },
      "source": [
        "data[~(names=='Juan')]"
      ],
      "execution_count": 0,
      "outputs": [
        {
          "output_type": "execute_result",
          "data": {
            "text/plain": [
              "array([[0.54326692, 0.55944243, 0.94917923, 0.15968057],\n",
              "       [0.68714974, 0.88838449, 0.22715255, 0.58803347],\n",
              "       [0.3266428 , 0.87670611, 0.41207588, 0.987085  ],\n",
              "       [0.08218788, 0.15694985, 0.62049799, 0.79876237],\n",
              "       [0.75026182, 0.267113  , 0.94434183, 0.68100552],\n",
              "       [0.1164529 , 0.53177003, 0.94380642, 0.36903003]])"
            ]
          },
          "metadata": {
            "tags": []
          },
          "execution_count": 55
        }
      ]
    },
    {
      "cell_type": "code",
      "metadata": {
        "id": "vxMSrmhUwEOt",
        "colab_type": "code",
        "outputId": "a7e48038-ec31-4855-c13f-97ed17288d61",
        "colab": {
          "base_uri": "https://localhost:8080/",
          "height": 118
        }
      },
      "source": [
        "data[(names!='Juan')]"
      ],
      "execution_count": 0,
      "outputs": [
        {
          "output_type": "execute_result",
          "data": {
            "text/plain": [
              "array([[0.54326692, 0.55944243, 0.94917923, 0.15968057],\n",
              "       [0.68714974, 0.88838449, 0.22715255, 0.58803347],\n",
              "       [0.3266428 , 0.87670611, 0.41207588, 0.987085  ],\n",
              "       [0.08218788, 0.15694985, 0.62049799, 0.79876237],\n",
              "       [0.75026182, 0.267113  , 0.94434183, 0.68100552],\n",
              "       [0.1164529 , 0.53177003, 0.94380642, 0.36903003]])"
            ]
          },
          "metadata": {
            "tags": []
          },
          "execution_count": 56
        }
      ]
    },
    {
      "cell_type": "code",
      "metadata": {
        "id": "e7d5ePsIwgfs",
        "colab_type": "code",
        "outputId": "64211dab-bd8d-4b76-f860-1e24bfbf5dab",
        "colab": {
          "base_uri": "https://localhost:8080/",
          "height": 138
        }
      },
      "source": [
        "data>0.4"
      ],
      "execution_count": 0,
      "outputs": [
        {
          "output_type": "execute_result",
          "data": {
            "text/plain": [
              "array([[False,  True,  True, False],\n",
              "       [ True,  True,  True, False],\n",
              "       [ True,  True, False,  True],\n",
              "       [False,  True,  True,  True],\n",
              "       [False, False,  True,  True],\n",
              "       [ True, False,  True,  True],\n",
              "       [False,  True,  True, False]])"
            ]
          },
          "metadata": {
            "tags": []
          },
          "execution_count": 57
        }
      ]
    },
    {
      "cell_type": "code",
      "metadata": {
        "id": "cioaC7vdwlW6",
        "colab_type": "code",
        "outputId": "42b578d3-9f66-4678-9167-af5fcdd54842",
        "colab": {
          "base_uri": "https://localhost:8080/",
          "height": 84
        }
      },
      "source": [
        "data[data>0.4]"
      ],
      "execution_count": 0,
      "outputs": [
        {
          "output_type": "execute_result",
          "data": {
            "text/plain": [
              "array([0.73454463, 0.55241375, 0.54326692, 0.55944243, 0.94917923,\n",
              "       0.68714974, 0.88838449, 0.58803347, 0.87670611, 0.41207588,\n",
              "       0.987085  , 0.62049799, 0.79876237, 0.75026182, 0.94434183,\n",
              "       0.68100552, 0.53177003, 0.94380642])"
            ]
          },
          "metadata": {
            "tags": []
          },
          "execution_count": 58
        }
      ]
    },
    {
      "cell_type": "code",
      "metadata": {
        "id": "gdYhQzjcw2cv",
        "colab_type": "code",
        "colab": {}
      },
      "source": [
        ""
      ],
      "execution_count": 0,
      "outputs": []
    },
    {
      "cell_type": "markdown",
      "metadata": {
        "id": "-2gZ_xxUw22Q",
        "colab_type": "text"
      },
      "source": [
        "Estadistica Numpy"
      ]
    },
    {
      "cell_type": "code",
      "metadata": {
        "id": "3mBIE6LIw5Sw",
        "colab_type": "code",
        "outputId": "06f11610-3e60-486b-9985-2bd0257192d9",
        "colab": {
          "base_uri": "https://localhost:8080/",
          "height": 34
        }
      },
      "source": [
        "data.mean()"
      ],
      "execution_count": 0,
      "outputs": [
        {
          "output_type": "execute_result",
          "data": {
            "text/plain": [
              "0.5470446502741246"
            ]
          },
          "metadata": {
            "tags": []
          },
          "execution_count": 59
        }
      ]
    },
    {
      "cell_type": "code",
      "metadata": {
        "id": "EvjIXvxcxFSo",
        "colab_type": "code",
        "outputId": "c47d1725-d9bb-41e9-c3db-23c31de85e62",
        "colab": {
          "base_uri": "https://localhost:8080/",
          "height": 34
        }
      },
      "source": [
        "np.mean(data)"
      ],
      "execution_count": 0,
      "outputs": [
        {
          "output_type": "execute_result",
          "data": {
            "text/plain": [
              "0.5470446502741246"
            ]
          },
          "metadata": {
            "tags": []
          },
          "execution_count": 60
        }
      ]
    },
    {
      "cell_type": "code",
      "metadata": {
        "id": "3C4T8EPyxQJW",
        "colab_type": "code",
        "outputId": "fb24aeb2-dbb9-480c-b1c3-2f7864b419a1",
        "colab": {
          "base_uri": "https://localhost:8080/",
          "height": 34
        }
      },
      "source": [
        "data.sum()"
      ],
      "execution_count": 0,
      "outputs": [
        {
          "output_type": "execute_result",
          "data": {
            "text/plain": [
              "15.31725020767549"
            ]
          },
          "metadata": {
            "tags": []
          },
          "execution_count": 61
        }
      ]
    },
    {
      "cell_type": "code",
      "metadata": {
        "id": "Ir2-ctN4xUOi",
        "colab_type": "code",
        "outputId": "8df882e4-a4db-46b4-f977-6cace5902c2e",
        "colab": {
          "base_uri": "https://localhost:8080/",
          "height": 34
        }
      },
      "source": [
        "np.sum(data)"
      ],
      "execution_count": 0,
      "outputs": [
        {
          "output_type": "execute_result",
          "data": {
            "text/plain": [
              "15.31725020767549"
            ]
          },
          "metadata": {
            "tags": []
          },
          "execution_count": 62
        }
      ]
    },
    {
      "cell_type": "code",
      "metadata": {
        "id": "tOHz9nmYxl7L",
        "colab_type": "code",
        "outputId": "ff0d0cf5-ac6f-4a80-9eeb-c3be7e50bd98",
        "colab": {
          "base_uri": "https://localhost:8080/",
          "height": 35
        }
      },
      "source": [
        "a=data.std()\n",
        "b=data.var()\n",
        "c=data.min()\n",
        "d=data.max()\n",
        "\n",
        "print(a,b,c,d)\n"
      ],
      "execution_count": 0,
      "outputs": [
        {
          "output_type": "stream",
          "text": [
            "0.28068407388080513 0.07878354933032526 0.08218788325576076 0.9870850011861764\n"
          ],
          "name": "stdout"
        }
      ]
    },
    {
      "cell_type": "code",
      "metadata": {
        "id": "Nmr2MILOyXw5",
        "colab_type": "code",
        "outputId": "8b887649-fdc8-479c-efed-f32a6532c3bc",
        "colab": {
          "base_uri": "https://localhost:8080/",
          "height": 67
        }
      },
      "source": [
        "d=[1,2,3,4,5,6]\n",
        "darr=np.array(d)\n",
        "print(darr)\n",
        "print(darr.cumsum())\n",
        "print(darr.cumprod())\n",
        "\n"
      ],
      "execution_count": 0,
      "outputs": [
        {
          "output_type": "stream",
          "text": [
            "[1 2 3 4 5 6]\n",
            "[ 1  3  6 10 15 21]\n",
            "[  1   2   6  24 120 720]\n"
          ],
          "name": "stdout"
        }
      ]
    },
    {
      "cell_type": "code",
      "metadata": {
        "id": "nf01hEtDzx60",
        "colab_type": "code",
        "outputId": "b226fad8-5523-4967-96b8-149b28a1e450",
        "colab": {
          "base_uri": "https://localhost:8080/",
          "height": 134
        }
      },
      "source": [
        "print(data)"
      ],
      "execution_count": 0,
      "outputs": [
        {
          "output_type": "stream",
          "text": [
            "[[0.25447005 0.73454463 0.55241375 0.30884296]\n",
            " [0.54326692 0.55944243 0.94917923 0.15968057]\n",
            " [0.68714974 0.88838449 0.22715255 0.58803347]\n",
            " [0.3266428  0.87670611 0.41207588 0.987085  ]\n",
            " [0.08218788 0.15694985 0.62049799 0.79876237]\n",
            " [0.75026182 0.267113   0.94434183 0.68100552]\n",
            " [0.1164529  0.53177003 0.94380642 0.36903003]]\n"
          ],
          "name": "stdout"
        }
      ]
    },
    {
      "cell_type": "code",
      "metadata": {
        "id": "nt7RBzpg0ZSF",
        "colab_type": "code",
        "colab": {}
      },
      "source": [
        ""
      ],
      "execution_count": 0,
      "outputs": []
    },
    {
      "cell_type": "code",
      "metadata": {
        "id": "1TDc1UpEznVO",
        "colab_type": "code",
        "outputId": "1a3abdc2-39ee-43a3-935d-fc0ed4590106",
        "colab": {
          "base_uri": "https://localhost:8080/",
          "height": 134
        }
      },
      "source": [
        "\n",
        "\n",
        "\n",
        "print(data.cumsum(axis=0))"
      ],
      "execution_count": 0,
      "outputs": [
        {
          "output_type": "stream",
          "text": [
            "[[0.25447005 0.73454463 0.55241375 0.30884296]\n",
            " [0.79773696 1.29398706 1.50159298 0.46852353]\n",
            " [1.4848867  2.18237155 1.72874554 1.056557  ]\n",
            " [1.8115295  3.05907766 2.14082142 2.043642  ]\n",
            " [1.89371738 3.21602751 2.7613194  2.84240437]\n",
            " [2.6439792  3.4831405  3.70566123 3.52340989]\n",
            " [2.7604321  4.01491054 4.64946765 3.89243992]]\n"
          ],
          "name": "stdout"
        }
      ]
    },
    {
      "cell_type": "markdown",
      "metadata": {
        "id": "tuSE1mOW0bi0",
        "colab_type": "text"
      },
      "source": [
        ""
      ]
    },
    {
      "cell_type": "code",
      "metadata": {
        "id": "ZIOK6klfztMb",
        "colab_type": "code",
        "outputId": "f1051345-d7af-4641-ccd8-5ee503020cb6",
        "colab": {
          "base_uri": "https://localhost:8080/",
          "height": 138
        }
      },
      "source": [
        "print(data.cumsum(axis=1))"
      ],
      "execution_count": 0,
      "outputs": [
        {
          "output_type": "stream",
          "text": [
            "[[0.25447005 0.98901468 1.54142843 1.85027139]\n",
            " [0.54326692 1.10270935 2.05188858 2.21156914]\n",
            " [0.68714974 1.57553422 1.80268678 2.39072025]\n",
            " [0.3266428  1.20334891 1.61542478 2.60250978]\n",
            " [0.08218788 0.23913773 0.85963572 1.65839809]\n",
            " [0.75026182 1.01737482 1.96171665 2.64272217]\n",
            " [0.1164529  0.64822293 1.59202935 1.96105938]]\n"
          ],
          "name": "stdout"
        }
      ]
    },
    {
      "cell_type": "markdown",
      "metadata": {
        "id": "t5IYcS1f0ddN",
        "colab_type": "text"
      },
      "source": [
        "**Pandas**"
      ]
    },
    {
      "cell_type": "code",
      "metadata": {
        "id": "tEEMFh9g0iL7",
        "colab_type": "code",
        "colab": {}
      },
      "source": [
        "import pandas as pd"
      ],
      "execution_count": 0,
      "outputs": []
    },
    {
      "cell_type": "code",
      "metadata": {
        "id": "m6mPcD0D0zhC",
        "colab_type": "code",
        "outputId": "c47a2de9-42d1-43e1-874f-7ef5d6d67a4e",
        "colab": {
          "base_uri": "https://localhost:8080/",
          "height": 54
        }
      },
      "source": [
        "data={'state':['OH','OH','OH','NE','NE','NE'],\n",
        "      'year':[2000,2001,2002,2000,2001,2002],\n",
        "      'pop':[1.5,1.7,3.6,2.4,2.9,3.2]}\n",
        "\n",
        "print(data)"
      ],
      "execution_count": 0,
      "outputs": [
        {
          "output_type": "stream",
          "text": [
            "{'state': ['OH', 'OH', 'OH', 'NE', 'NE', 'NE'], 'year': [2000, 2001, 2002, 2000, 2001, 2002], 'pop': [1.5, 1.7, 3.6, 2.4, 2.9, 3.2]}\n"
          ],
          "name": "stdout"
        }
      ]
    },
    {
      "cell_type": "code",
      "metadata": {
        "id": "UlnRnvST1aSX",
        "colab_type": "code",
        "outputId": "f7998fb4-e53e-42fa-b800-9a7e99edc910",
        "colab": {
          "base_uri": "https://localhost:8080/",
          "height": 138
        }
      },
      "source": [
        "frame=pd.DataFrame(data)\n",
        "\n",
        "print(frame)"
      ],
      "execution_count": 0,
      "outputs": [
        {
          "output_type": "stream",
          "text": [
            "  state  year  pop\n",
            "0    OH  2000  1.5\n",
            "1    OH  2001  1.7\n",
            "2    OH  2002  3.6\n",
            "3    NE  2000  2.4\n",
            "4    NE  2001  2.9\n",
            "5    NE  2002  3.2\n"
          ],
          "name": "stdout"
        }
      ]
    },
    {
      "cell_type": "code",
      "metadata": {
        "id": "WPRj_Kd52j3x",
        "colab_type": "code",
        "colab": {}
      },
      "source": [
        ""
      ],
      "execution_count": 0,
      "outputs": []
    },
    {
      "cell_type": "code",
      "metadata": {
        "id": "valigWA_2gjV",
        "colab_type": "code",
        "outputId": "5e0c3acb-58b8-432c-e8b9-62e64b95b43d",
        "colab": {
          "base_uri": "https://localhost:8080/",
          "height": 195
        }
      },
      "source": [
        "frame.head()"
      ],
      "execution_count": 0,
      "outputs": [
        {
          "output_type": "execute_result",
          "data": {
            "text/html": [
              "<div>\n",
              "<style scoped>\n",
              "    .dataframe tbody tr th:only-of-type {\n",
              "        vertical-align: middle;\n",
              "    }\n",
              "\n",
              "    .dataframe tbody tr th {\n",
              "        vertical-align: top;\n",
              "    }\n",
              "\n",
              "    .dataframe thead th {\n",
              "        text-align: right;\n",
              "    }\n",
              "</style>\n",
              "<table border=\"1\" class=\"dataframe\">\n",
              "  <thead>\n",
              "    <tr style=\"text-align: right;\">\n",
              "      <th></th>\n",
              "      <th>state</th>\n",
              "      <th>year</th>\n",
              "      <th>pop</th>\n",
              "    </tr>\n",
              "  </thead>\n",
              "  <tbody>\n",
              "    <tr>\n",
              "      <th>0</th>\n",
              "      <td>OH</td>\n",
              "      <td>2000</td>\n",
              "      <td>1.5</td>\n",
              "    </tr>\n",
              "    <tr>\n",
              "      <th>1</th>\n",
              "      <td>OH</td>\n",
              "      <td>2001</td>\n",
              "      <td>1.7</td>\n",
              "    </tr>\n",
              "    <tr>\n",
              "      <th>2</th>\n",
              "      <td>OH</td>\n",
              "      <td>2002</td>\n",
              "      <td>3.6</td>\n",
              "    </tr>\n",
              "    <tr>\n",
              "      <th>3</th>\n",
              "      <td>NE</td>\n",
              "      <td>2000</td>\n",
              "      <td>2.4</td>\n",
              "    </tr>\n",
              "    <tr>\n",
              "      <th>4</th>\n",
              "      <td>NE</td>\n",
              "      <td>2001</td>\n",
              "      <td>2.9</td>\n",
              "    </tr>\n",
              "  </tbody>\n",
              "</table>\n",
              "</div>"
            ],
            "text/plain": [
              "  state  year  pop\n",
              "0    OH  2000  1.5\n",
              "1    OH  2001  1.7\n",
              "2    OH  2002  3.6\n",
              "3    NE  2000  2.4\n",
              "4    NE  2001  2.9"
            ]
          },
          "metadata": {
            "tags": []
          },
          "execution_count": 78
        }
      ]
    },
    {
      "cell_type": "code",
      "metadata": {
        "id": "GXiTSLep2lIX",
        "colab_type": "code",
        "outputId": "5a562bfb-cad8-4114-b3aa-0d43eb4f7c33",
        "colab": {
          "base_uri": "https://localhost:8080/",
          "height": 185
        }
      },
      "source": [
        "frame.info()"
      ],
      "execution_count": 0,
      "outputs": [
        {
          "output_type": "stream",
          "text": [
            "<class 'pandas.core.frame.DataFrame'>\n",
            "RangeIndex: 6 entries, 0 to 5\n",
            "Data columns (total 3 columns):\n",
            " #   Column  Non-Null Count  Dtype  \n",
            "---  ------  --------------  -----  \n",
            " 0   state   6 non-null      object \n",
            " 1   year    6 non-null      int64  \n",
            " 2   pop     6 non-null      float64\n",
            "dtypes: float64(1), int64(1), object(1)\n",
            "memory usage: 272.0+ bytes\n"
          ],
          "name": "stdout"
        }
      ]
    },
    {
      "cell_type": "code",
      "metadata": {
        "id": "acM6yokd2wLz",
        "colab_type": "code",
        "outputId": "4539ebde-6fbc-4e9b-f974-d2536b74d8c9",
        "colab": {
          "base_uri": "https://localhost:8080/",
          "height": 34
        }
      },
      "source": [
        "frame.shape"
      ],
      "execution_count": 0,
      "outputs": [
        {
          "output_type": "execute_result",
          "data": {
            "text/plain": [
              "(6, 3)"
            ]
          },
          "metadata": {
            "tags": []
          },
          "execution_count": 80
        }
      ]
    },
    {
      "cell_type": "code",
      "metadata": {
        "id": "6YPalOTB21ZV",
        "colab_type": "code",
        "outputId": "e0233c93-bb6d-4566-b097-f0bd252e2a1e",
        "colab": {
          "base_uri": "https://localhost:8080/",
          "height": 284
        }
      },
      "source": [
        "frame.describe()"
      ],
      "execution_count": 0,
      "outputs": [
        {
          "output_type": "execute_result",
          "data": {
            "text/html": [
              "<div>\n",
              "<style scoped>\n",
              "    .dataframe tbody tr th:only-of-type {\n",
              "        vertical-align: middle;\n",
              "    }\n",
              "\n",
              "    .dataframe tbody tr th {\n",
              "        vertical-align: top;\n",
              "    }\n",
              "\n",
              "    .dataframe thead th {\n",
              "        text-align: right;\n",
              "    }\n",
              "</style>\n",
              "<table border=\"1\" class=\"dataframe\">\n",
              "  <thead>\n",
              "    <tr style=\"text-align: right;\">\n",
              "      <th></th>\n",
              "      <th>year</th>\n",
              "      <th>pop</th>\n",
              "    </tr>\n",
              "  </thead>\n",
              "  <tbody>\n",
              "    <tr>\n",
              "      <th>count</th>\n",
              "      <td>6.000000</td>\n",
              "      <td>6.000000</td>\n",
              "    </tr>\n",
              "    <tr>\n",
              "      <th>mean</th>\n",
              "      <td>2001.000000</td>\n",
              "      <td>2.550000</td>\n",
              "    </tr>\n",
              "    <tr>\n",
              "      <th>std</th>\n",
              "      <td>0.894427</td>\n",
              "      <td>0.836062</td>\n",
              "    </tr>\n",
              "    <tr>\n",
              "      <th>min</th>\n",
              "      <td>2000.000000</td>\n",
              "      <td>1.500000</td>\n",
              "    </tr>\n",
              "    <tr>\n",
              "      <th>25%</th>\n",
              "      <td>2000.250000</td>\n",
              "      <td>1.875000</td>\n",
              "    </tr>\n",
              "    <tr>\n",
              "      <th>50%</th>\n",
              "      <td>2001.000000</td>\n",
              "      <td>2.650000</td>\n",
              "    </tr>\n",
              "    <tr>\n",
              "      <th>75%</th>\n",
              "      <td>2001.750000</td>\n",
              "      <td>3.125000</td>\n",
              "    </tr>\n",
              "    <tr>\n",
              "      <th>max</th>\n",
              "      <td>2002.000000</td>\n",
              "      <td>3.600000</td>\n",
              "    </tr>\n",
              "  </tbody>\n",
              "</table>\n",
              "</div>"
            ],
            "text/plain": [
              "              year       pop\n",
              "count     6.000000  6.000000\n",
              "mean   2001.000000  2.550000\n",
              "std       0.894427  0.836062\n",
              "min    2000.000000  1.500000\n",
              "25%    2000.250000  1.875000\n",
              "50%    2001.000000  2.650000\n",
              "75%    2001.750000  3.125000\n",
              "max    2002.000000  3.600000"
            ]
          },
          "metadata": {
            "tags": []
          },
          "execution_count": 81
        }
      ]
    },
    {
      "cell_type": "code",
      "metadata": {
        "id": "5cEQP4fV3b0x",
        "colab_type": "code",
        "outputId": "2efcda64-db3f-4679-fe92-febd7934288e",
        "colab": {
          "base_uri": "https://localhost:8080/",
          "height": 134
        }
      },
      "source": [
        "frame.year"
      ],
      "execution_count": 0,
      "outputs": [
        {
          "output_type": "execute_result",
          "data": {
            "text/plain": [
              "0    2000\n",
              "1    2001\n",
              "2    2002\n",
              "3    2000\n",
              "4    2001\n",
              "5    2002\n",
              "Name: year, dtype: int64"
            ]
          },
          "metadata": {
            "tags": []
          },
          "execution_count": 82
        }
      ]
    },
    {
      "cell_type": "code",
      "metadata": {
        "id": "UUqwexuy3jxm",
        "colab_type": "code",
        "outputId": "f2d589b6-5b75-4dc6-b916-ffdfaa8499b9",
        "colab": {
          "base_uri": "https://localhost:8080/",
          "height": 134
        }
      },
      "source": [
        "frame.state"
      ],
      "execution_count": 0,
      "outputs": [
        {
          "output_type": "execute_result",
          "data": {
            "text/plain": [
              "0    OH\n",
              "1    OH\n",
              "2    OH\n",
              "3    NE\n",
              "4    NE\n",
              "5    NE\n",
              "Name: state, dtype: object"
            ]
          },
          "metadata": {
            "tags": []
          },
          "execution_count": 83
        }
      ]
    },
    {
      "cell_type": "code",
      "metadata": {
        "id": "MxPmnxeJ3ryh",
        "colab_type": "code",
        "outputId": "22281db1-b425-488b-fc35-2c059ba4de76",
        "colab": {
          "base_uri": "https://localhost:8080/",
          "height": 134
        }
      },
      "source": [
        "frame['year']"
      ],
      "execution_count": 0,
      "outputs": [
        {
          "output_type": "execute_result",
          "data": {
            "text/plain": [
              "0    2000\n",
              "1    2001\n",
              "2    2002\n",
              "3    2000\n",
              "4    2001\n",
              "5    2002\n",
              "Name: year, dtype: int64"
            ]
          },
          "metadata": {
            "tags": []
          },
          "execution_count": 84
        }
      ]
    },
    {
      "cell_type": "code",
      "metadata": {
        "id": "8Oi_iKVE3wuj",
        "colab_type": "code",
        "outputId": "6cf702f8-b174-4694-cd1b-1380ec84373d",
        "colab": {
          "base_uri": "https://localhost:8080/",
          "height": 134
        }
      },
      "source": [
        "frame['state']"
      ],
      "execution_count": 0,
      "outputs": [
        {
          "output_type": "execute_result",
          "data": {
            "text/plain": [
              "0    OH\n",
              "1    OH\n",
              "2    OH\n",
              "3    NE\n",
              "4    NE\n",
              "5    NE\n",
              "Name: state, dtype: object"
            ]
          },
          "metadata": {
            "tags": []
          },
          "execution_count": 85
        }
      ]
    },
    {
      "cell_type": "code",
      "metadata": {
        "id": "d5tTV_3H4n-t",
        "colab_type": "code",
        "outputId": "714a8772-1d02-41c7-cbde-ba27edd1d93f",
        "colab": {
          "base_uri": "https://localhost:8080/",
          "height": 34
        }
      },
      "source": [
        "frame.columns"
      ],
      "execution_count": 0,
      "outputs": [
        {
          "output_type": "execute_result",
          "data": {
            "text/plain": [
              "Index(['state', 'year', 'pop'], dtype='object')"
            ]
          },
          "metadata": {
            "tags": []
          },
          "execution_count": 86
        }
      ]
    },
    {
      "cell_type": "code",
      "metadata": {
        "id": "vu91DkLk4sAT",
        "colab_type": "code",
        "outputId": "300a6daf-8b20-401a-c7b5-6404d8d7be8f",
        "colab": {
          "base_uri": "https://localhost:8080/",
          "height": 118
        }
      },
      "source": [
        "frame.values"
      ],
      "execution_count": 0,
      "outputs": [
        {
          "output_type": "execute_result",
          "data": {
            "text/plain": [
              "array([['OH', 2000, 1.5],\n",
              "       ['OH', 2001, 1.7],\n",
              "       ['OH', 2002, 3.6],\n",
              "       ['NE', 2000, 2.4],\n",
              "       ['NE', 2001, 2.9],\n",
              "       ['NE', 2002, 3.2]], dtype=object)"
            ]
          },
          "metadata": {
            "tags": []
          },
          "execution_count": 87
        }
      ]
    },
    {
      "cell_type": "code",
      "metadata": {
        "id": "jkXAgFRc41R-",
        "colab_type": "code",
        "outputId": "ba9e4a92-3fc1-420f-9cc8-343c6fff2703",
        "colab": {
          "base_uri": "https://localhost:8080/",
          "height": 34
        }
      },
      "source": [
        "frame.index"
      ],
      "execution_count": 0,
      "outputs": [
        {
          "output_type": "execute_result",
          "data": {
            "text/plain": [
              "RangeIndex(start=0, stop=6, step=1)"
            ]
          },
          "metadata": {
            "tags": []
          },
          "execution_count": 88
        }
      ]
    },
    {
      "cell_type": "code",
      "metadata": {
        "id": "qMBrPTO149UN",
        "colab_type": "code",
        "outputId": "8c408460-b8f3-469b-9d55-cf897281683f",
        "colab": {
          "base_uri": "https://localhost:8080/",
          "height": 84
        }
      },
      "source": [
        "frame.sum()"
      ],
      "execution_count": 0,
      "outputs": [
        {
          "output_type": "execute_result",
          "data": {
            "text/plain": [
              "state    OHOHOHNENENE\n",
              "year            12006\n",
              "pop              15.3\n",
              "dtype: object"
            ]
          },
          "metadata": {
            "tags": []
          },
          "execution_count": 89
        }
      ]
    },
    {
      "cell_type": "code",
      "metadata": {
        "id": "kWIHwyPm5Fty",
        "colab_type": "code",
        "outputId": "607c4a98-3b44-4201-dc93-6bbc6a47ac86",
        "colab": {
          "base_uri": "https://localhost:8080/",
          "height": 67
        }
      },
      "source": [
        "frame.mean()"
      ],
      "execution_count": 0,
      "outputs": [
        {
          "output_type": "execute_result",
          "data": {
            "text/plain": [
              "year    2001.00\n",
              "pop        2.55\n",
              "dtype: float64"
            ]
          },
          "metadata": {
            "tags": []
          },
          "execution_count": 90
        }
      ]
    },
    {
      "cell_type": "code",
      "metadata": {
        "id": "ZX9EMf225NTT",
        "colab_type": "code",
        "outputId": "2acc33d5-b4bd-4673-f83b-9f21c0768808",
        "colab": {
          "base_uri": "https://localhost:8080/",
          "height": 84
        }
      },
      "source": [
        "frame.min()"
      ],
      "execution_count": 0,
      "outputs": [
        {
          "output_type": "execute_result",
          "data": {
            "text/plain": [
              "state      NE\n",
              "year     2000\n",
              "pop       1.5\n",
              "dtype: object"
            ]
          },
          "metadata": {
            "tags": []
          },
          "execution_count": 91
        }
      ]
    },
    {
      "cell_type": "code",
      "metadata": {
        "id": "KY4I4NEe5VgJ",
        "colab_type": "code",
        "outputId": "282127e6-c393-4a8d-b1b3-853d801514fc",
        "colab": {
          "base_uri": "https://localhost:8080/",
          "height": 225
        }
      },
      "source": [
        "frame.cumsum()"
      ],
      "execution_count": 0,
      "outputs": [
        {
          "output_type": "execute_result",
          "data": {
            "text/html": [
              "<div>\n",
              "<style scoped>\n",
              "    .dataframe tbody tr th:only-of-type {\n",
              "        vertical-align: middle;\n",
              "    }\n",
              "\n",
              "    .dataframe tbody tr th {\n",
              "        vertical-align: top;\n",
              "    }\n",
              "\n",
              "    .dataframe thead th {\n",
              "        text-align: right;\n",
              "    }\n",
              "</style>\n",
              "<table border=\"1\" class=\"dataframe\">\n",
              "  <thead>\n",
              "    <tr style=\"text-align: right;\">\n",
              "      <th></th>\n",
              "      <th>state</th>\n",
              "      <th>year</th>\n",
              "      <th>pop</th>\n",
              "    </tr>\n",
              "  </thead>\n",
              "  <tbody>\n",
              "    <tr>\n",
              "      <th>0</th>\n",
              "      <td>OH</td>\n",
              "      <td>2000</td>\n",
              "      <td>1.5</td>\n",
              "    </tr>\n",
              "    <tr>\n",
              "      <th>1</th>\n",
              "      <td>OHOH</td>\n",
              "      <td>4001</td>\n",
              "      <td>3.2</td>\n",
              "    </tr>\n",
              "    <tr>\n",
              "      <th>2</th>\n",
              "      <td>OHOHOH</td>\n",
              "      <td>6003</td>\n",
              "      <td>6.8</td>\n",
              "    </tr>\n",
              "    <tr>\n",
              "      <th>3</th>\n",
              "      <td>OHOHOHNE</td>\n",
              "      <td>8003</td>\n",
              "      <td>9.2</td>\n",
              "    </tr>\n",
              "    <tr>\n",
              "      <th>4</th>\n",
              "      <td>OHOHOHNENE</td>\n",
              "      <td>10004</td>\n",
              "      <td>12.1</td>\n",
              "    </tr>\n",
              "    <tr>\n",
              "      <th>5</th>\n",
              "      <td>OHOHOHNENENE</td>\n",
              "      <td>12006</td>\n",
              "      <td>15.3</td>\n",
              "    </tr>\n",
              "  </tbody>\n",
              "</table>\n",
              "</div>"
            ],
            "text/plain": [
              "          state   year   pop\n",
              "0            OH   2000   1.5\n",
              "1          OHOH   4001   3.2\n",
              "2        OHOHOH   6003   6.8\n",
              "3      OHOHOHNE   8003   9.2\n",
              "4    OHOHOHNENE  10004  12.1\n",
              "5  OHOHOHNENENE  12006  15.3"
            ]
          },
          "metadata": {
            "tags": []
          },
          "execution_count": 92
        }
      ]
    },
    {
      "cell_type": "code",
      "metadata": {
        "id": "LZMhsi5u5fkB",
        "colab_type": "code",
        "outputId": "6ad05357-ff46-49e7-c7d8-039b8beb4028",
        "colab": {
          "base_uri": "https://localhost:8080/",
          "height": 225
        }
      },
      "source": [
        "frame.cummax()"
      ],
      "execution_count": 0,
      "outputs": [
        {
          "output_type": "execute_result",
          "data": {
            "text/html": [
              "<div>\n",
              "<style scoped>\n",
              "    .dataframe tbody tr th:only-of-type {\n",
              "        vertical-align: middle;\n",
              "    }\n",
              "\n",
              "    .dataframe tbody tr th {\n",
              "        vertical-align: top;\n",
              "    }\n",
              "\n",
              "    .dataframe thead th {\n",
              "        text-align: right;\n",
              "    }\n",
              "</style>\n",
              "<table border=\"1\" class=\"dataframe\">\n",
              "  <thead>\n",
              "    <tr style=\"text-align: right;\">\n",
              "      <th></th>\n",
              "      <th>state</th>\n",
              "      <th>year</th>\n",
              "      <th>pop</th>\n",
              "    </tr>\n",
              "  </thead>\n",
              "  <tbody>\n",
              "    <tr>\n",
              "      <th>0</th>\n",
              "      <td>OH</td>\n",
              "      <td>2000</td>\n",
              "      <td>1.5</td>\n",
              "    </tr>\n",
              "    <tr>\n",
              "      <th>1</th>\n",
              "      <td>OH</td>\n",
              "      <td>2001</td>\n",
              "      <td>1.7</td>\n",
              "    </tr>\n",
              "    <tr>\n",
              "      <th>2</th>\n",
              "      <td>OH</td>\n",
              "      <td>2002</td>\n",
              "      <td>3.6</td>\n",
              "    </tr>\n",
              "    <tr>\n",
              "      <th>3</th>\n",
              "      <td>OH</td>\n",
              "      <td>2002</td>\n",
              "      <td>3.6</td>\n",
              "    </tr>\n",
              "    <tr>\n",
              "      <th>4</th>\n",
              "      <td>OH</td>\n",
              "      <td>2002</td>\n",
              "      <td>3.6</td>\n",
              "    </tr>\n",
              "    <tr>\n",
              "      <th>5</th>\n",
              "      <td>OH</td>\n",
              "      <td>2002</td>\n",
              "      <td>3.6</td>\n",
              "    </tr>\n",
              "  </tbody>\n",
              "</table>\n",
              "</div>"
            ],
            "text/plain": [
              "  state  year  pop\n",
              "0    OH  2000  1.5\n",
              "1    OH  2001  1.7\n",
              "2    OH  2002  3.6\n",
              "3    OH  2002  3.6\n",
              "4    OH  2002  3.6\n",
              "5    OH  2002  3.6"
            ]
          },
          "metadata": {
            "tags": []
          },
          "execution_count": 93
        }
      ]
    }
  ]
}