{
  "nbformat": 4,
  "nbformat_minor": 0,
  "metadata": {
    "colab": {
      "name": "Notebook5.ipynb",
      "provenance": []
    },
    "kernelspec": {
      "name": "python3",
      "display_name": "Python 3"
    }
  },
  "cells": [
    {
      "cell_type": "markdown",
      "metadata": {
        "id": "SnV_u0OtXBws",
        "colab_type": "text"
      },
      "source": [
        "Machine Learning Regresion Lineal"
      ]
    },
    {
      "cell_type": "code",
      "metadata": {
        "id": "nyOiFRC3XMyR",
        "colab_type": "code",
        "colab": {}
      },
      "source": [
        "import pandas as pd"
      ],
      "execution_count": null,
      "outputs": []
    },
    {
      "cell_type": "code",
      "metadata": {
        "id": "51Ur46kgXUPE",
        "colab_type": "code",
        "colab": {}
      },
      "source": [
        "from sklearn import linear_model\n",
        "from sklearn.metrics import mean_squared_error, r2_score\n",
        "from sklearn.model_selection import train_test_split"
      ],
      "execution_count": null,
      "outputs": []
    },
    {
      "cell_type": "markdown",
      "metadata": {
        "id": "ugakHsu6iALK",
        "colab_type": "text"
      },
      "source": [
        ""
      ]
    },
    {
      "cell_type": "code",
      "metadata": {
        "id": "80xbVOo7XfC5",
        "colab_type": "code",
        "colab": {}
      },
      "source": [
        "url=\"https://www.w3schools.com/python/cars.csv\""
      ],
      "execution_count": null,
      "outputs": []
    },
    {
      "cell_type": "code",
      "metadata": {
        "id": "gf2EHjVOXtse",
        "colab_type": "code",
        "colab": {
          "base_uri": "https://localhost:8080/",
          "height": 195
        },
        "outputId": "9f26cd7a-11fc-47cb-a17e-2058199fba82"
      },
      "source": [
        "df=pd.read_csv(url)\n",
        "df.head()"
      ],
      "execution_count": null,
      "outputs": [
        {
          "output_type": "execute_result",
          "data": {
            "text/html": [
              "<div>\n",
              "<style scoped>\n",
              "    .dataframe tbody tr th:only-of-type {\n",
              "        vertical-align: middle;\n",
              "    }\n",
              "\n",
              "    .dataframe tbody tr th {\n",
              "        vertical-align: top;\n",
              "    }\n",
              "\n",
              "    .dataframe thead th {\n",
              "        text-align: right;\n",
              "    }\n",
              "</style>\n",
              "<table border=\"1\" class=\"dataframe\">\n",
              "  <thead>\n",
              "    <tr style=\"text-align: right;\">\n",
              "      <th></th>\n",
              "      <th>Car</th>\n",
              "      <th>Model</th>\n",
              "      <th>Volume</th>\n",
              "      <th>Weight</th>\n",
              "      <th>CO2</th>\n",
              "    </tr>\n",
              "  </thead>\n",
              "  <tbody>\n",
              "    <tr>\n",
              "      <th>0</th>\n",
              "      <td>Toyoty</td>\n",
              "      <td>Aygo</td>\n",
              "      <td>1000</td>\n",
              "      <td>790</td>\n",
              "      <td>99</td>\n",
              "    </tr>\n",
              "    <tr>\n",
              "      <th>1</th>\n",
              "      <td>Mitsubishi</td>\n",
              "      <td>Space Star</td>\n",
              "      <td>1200</td>\n",
              "      <td>1160</td>\n",
              "      <td>95</td>\n",
              "    </tr>\n",
              "    <tr>\n",
              "      <th>2</th>\n",
              "      <td>Skoda</td>\n",
              "      <td>Citigo</td>\n",
              "      <td>1000</td>\n",
              "      <td>929</td>\n",
              "      <td>95</td>\n",
              "    </tr>\n",
              "    <tr>\n",
              "      <th>3</th>\n",
              "      <td>Fiat</td>\n",
              "      <td>500</td>\n",
              "      <td>900</td>\n",
              "      <td>865</td>\n",
              "      <td>90</td>\n",
              "    </tr>\n",
              "    <tr>\n",
              "      <th>4</th>\n",
              "      <td>Mini</td>\n",
              "      <td>Cooper</td>\n",
              "      <td>1500</td>\n",
              "      <td>1140</td>\n",
              "      <td>105</td>\n",
              "    </tr>\n",
              "  </tbody>\n",
              "</table>\n",
              "</div>"
            ],
            "text/plain": [
              "          Car       Model  Volume  Weight  CO2\n",
              "0      Toyoty        Aygo    1000     790   99\n",
              "1  Mitsubishi  Space Star    1200    1160   95\n",
              "2       Skoda      Citigo    1000     929   95\n",
              "3        Fiat         500     900     865   90\n",
              "4        Mini      Cooper    1500    1140  105"
            ]
          },
          "metadata": {
            "tags": []
          },
          "execution_count": 78
        }
      ]
    },
    {
      "cell_type": "markdown",
      "metadata": {
        "id": "qVH1nb31hmc5",
        "colab_type": "text"
      },
      "source": [
        "Aprendizaje no Supervizado"
      ]
    },
    {
      "cell_type": "code",
      "metadata": {
        "id": "chF5ZvxMYE3I",
        "colab_type": "code",
        "colab": {}
      },
      "source": [
        "X=df[['Weight']]\n",
        "y=df['CO2']"
      ],
      "execution_count": null,
      "outputs": []
    },
    {
      "cell_type": "code",
      "metadata": {
        "id": "gaLnWLSjYe5I",
        "colab_type": "code",
        "colab": {}
      },
      "source": [
        "regr=linear_model.LinearRegression()\n"
      ],
      "execution_count": null,
      "outputs": []
    },
    {
      "cell_type": "code",
      "metadata": {
        "id": "2JOplAQVYyFy",
        "colab_type": "code",
        "colab": {
          "base_uri": "https://localhost:8080/",
          "height": 34
        },
        "outputId": "57a73b91-94fd-41dc-964d-753ecce0b33b"
      },
      "source": [
        "regr.fit(X,y)"
      ],
      "execution_count": null,
      "outputs": [
        {
          "output_type": "execute_result",
          "data": {
            "text/plain": [
              "LinearRegression(copy_X=True, fit_intercept=True, n_jobs=None, normalize=False)"
            ]
          },
          "metadata": {
            "tags": []
          },
          "execution_count": 81
        }
      ]
    },
    {
      "cell_type": "code",
      "metadata": {
        "id": "klh5F3lJZG_c",
        "colab_type": "code",
        "colab": {
          "base_uri": "https://localhost:8080/",
          "height": 34
        },
        "outputId": "ae4d4b05-715a-4302-f2f7-cc479b0de57e"
      },
      "source": [
        "regr.predict([[1000]])"
      ],
      "execution_count": null,
      "outputs": [
        {
          "output_type": "execute_result",
          "data": {
            "text/plain": [
              "array([97.05913313])"
            ]
          },
          "metadata": {
            "tags": []
          },
          "execution_count": 82
        }
      ]
    },
    {
      "cell_type": "markdown",
      "metadata": {
        "id": "ElR-PB06axV8",
        "colab_type": "text"
      },
      "source": [
        "Regresión Multiple\n"
      ]
    },
    {
      "cell_type": "code",
      "metadata": {
        "id": "pr3IQNFBa0zf",
        "colab_type": "code",
        "colab": {
          "base_uri": "https://localhost:8080/",
          "height": 218
        },
        "outputId": "cb163f52-6228-4ee2-f6fb-43ecbb595079"
      },
      "source": [
        "X1=df[['Weight','Volume']]\n",
        "y1=df['CO2']\n",
        "print(X1.head())\n",
        "print(y1.head())"
      ],
      "execution_count": null,
      "outputs": [
        {
          "output_type": "stream",
          "text": [
            "   Weight  Volume\n",
            "0     790    1000\n",
            "1    1160    1200\n",
            "2     929    1000\n",
            "3     865     900\n",
            "4    1140    1500\n",
            "0     99\n",
            "1     95\n",
            "2     95\n",
            "3     90\n",
            "4    105\n",
            "Name: CO2, dtype: int64\n"
          ],
          "name": "stdout"
        }
      ]
    },
    {
      "cell_type": "code",
      "metadata": {
        "id": "7y1pfJGJbPaF",
        "colab_type": "code",
        "colab": {}
      },
      "source": [
        "regr1=linear_model.LinearRegression()"
      ],
      "execution_count": null,
      "outputs": []
    },
    {
      "cell_type": "code",
      "metadata": {
        "id": "cwS0ctZVbWW_",
        "colab_type": "code",
        "colab": {
          "base_uri": "https://localhost:8080/",
          "height": 34
        },
        "outputId": "59ef1107-94d3-476c-894e-bbc1bbb4006c"
      },
      "source": [
        "regr1.fit(X1,y1)"
      ],
      "execution_count": null,
      "outputs": [
        {
          "output_type": "execute_result",
          "data": {
            "text/plain": [
              "LinearRegression(copy_X=True, fit_intercept=True, n_jobs=None, normalize=False)"
            ]
          },
          "metadata": {
            "tags": []
          },
          "execution_count": 85
        }
      ]
    },
    {
      "cell_type": "code",
      "metadata": {
        "id": "BF6yECnBbagA",
        "colab_type": "code",
        "colab": {
          "base_uri": "https://localhost:8080/",
          "height": 168
        },
        "outputId": "940289cb-b0ba-4540-e3ca-52433283409b"
      },
      "source": [
        "regr1.predict(X1)"
      ],
      "execution_count": null,
      "outputs": [
        {
          "output_type": "execute_result",
          "data": {
            "text/plain": [
              "array([ 93.46522516,  97.82012716,  94.51480683,  93.25102045,\n",
              "       100.01068547,  94.51480683,  98.99608035, 101.70964861,\n",
              "        99.79925895, 100.8667207 ,  95.6804309 ,  97.31699187,\n",
              "        95.89663018, 101.63691732, 102.19568742, 102.22589121,\n",
              "       102.49017436, 106.53149836, 100.63264133, 105.33289232,\n",
              "       104.14383181, 106.08798705, 106.39280312, 102.86772172,\n",
              "       105.98982473, 102.46474333, 106.55614578, 108.33061839,\n",
              "       103.68322403, 108.17959944, 108.20503047, 108.48918828,\n",
              "       101.50855121, 102.67894804, 102.79221225, 109.74143455])"
            ]
          },
          "metadata": {
            "tags": []
          },
          "execution_count": 86
        }
      ]
    },
    {
      "cell_type": "code",
      "metadata": {
        "id": "b6Wtx417cwOH",
        "colab_type": "code",
        "colab": {
          "base_uri": "https://localhost:8080/",
          "height": 34
        },
        "outputId": "8b2d3bc7-910f-4efc-b97b-65a24f6a5e0f"
      },
      "source": [
        "regr.coef_"
      ],
      "execution_count": null,
      "outputs": [
        {
          "output_type": "execute_result",
          "data": {
            "text/plain": [
              "array([0.01699973])"
            ]
          },
          "metadata": {
            "tags": []
          },
          "execution_count": 87
        }
      ]
    },
    {
      "cell_type": "code",
      "metadata": {
        "id": "piyUjkNxc2kB",
        "colab_type": "code",
        "colab": {
          "base_uri": "https://localhost:8080/",
          "height": 34
        },
        "outputId": "522ca74c-92c8-487b-bcc8-710448f6e7b9"
      },
      "source": [
        "regr1.coef_"
      ],
      "execution_count": null,
      "outputs": [
        {
          "output_type": "execute_result",
          "data": {
            "text/plain": [
              "array([0.00755095, 0.00780526])"
            ]
          },
          "metadata": {
            "tags": []
          },
          "execution_count": 88
        }
      ]
    },
    {
      "cell_type": "code",
      "metadata": {
        "id": "CEqjz9rhdFld",
        "colab_type": "code",
        "colab": {
          "base_uri": "https://localhost:8080/",
          "height": 34
        },
        "outputId": "bce58d50-67af-41ce-9b86-19ca009efa2b"
      },
      "source": [
        "mean_squared_error(y1,regr1.predict(X1))"
      ],
      "execution_count": null,
      "outputs": [
        {
          "output_type": "execute_result",
          "data": {
            "text/plain": [
              "33.68279098995156"
            ]
          },
          "metadata": {
            "tags": []
          },
          "execution_count": 89
        }
      ]
    },
    {
      "cell_type": "code",
      "metadata": {
        "id": "H4UAXxM9eJda",
        "colab_type": "code",
        "colab": {
          "base_uri": "https://localhost:8080/",
          "height": 34
        },
        "outputId": "54596090-5eef-4029-f37a-5eb7e193f955"
      },
      "source": [
        "r2_score(y1,regr1.predict(X1))"
      ],
      "execution_count": null,
      "outputs": [
        {
          "output_type": "execute_result",
          "data": {
            "text/plain": [
              "0.37655640436199855"
            ]
          },
          "metadata": {
            "tags": []
          },
          "execution_count": 90
        }
      ]
    },
    {
      "cell_type": "markdown",
      "metadata": {
        "id": "ndwzm3uVekYx",
        "colab_type": "text"
      },
      "source": [
        "CO2~Volume+ Weight+ Volume*Weight"
      ]
    },
    {
      "cell_type": "code",
      "metadata": {
        "id": "7EnhnV8pe3a3",
        "colab_type": "code",
        "colab": {
          "base_uri": "https://localhost:8080/",
          "height": 138
        },
        "outputId": "44d0c3e3-c1b8-43dc-a397-650a3733c109"
      },
      "source": [
        "X1[\"Weight_Volume\"]=X1[\"Weight\"]*X1[\"Volume\"]"
      ],
      "execution_count": null,
      "outputs": [
        {
          "output_type": "stream",
          "text": [
            "/usr/local/lib/python3.6/dist-packages/ipykernel_launcher.py:1: SettingWithCopyWarning: \n",
            "A value is trying to be set on a copy of a slice from a DataFrame.\n",
            "Try using .loc[row_indexer,col_indexer] = value instead\n",
            "\n",
            "See the caveats in the documentation: https://pandas.pydata.org/pandas-docs/stable/user_guide/indexing.html#returning-a-view-versus-a-copy\n",
            "  \"\"\"Entry point for launching an IPython kernel.\n"
          ],
          "name": "stderr"
        }
      ]
    },
    {
      "cell_type": "code",
      "metadata": {
        "id": "zZLApM4if8y5",
        "colab_type": "code",
        "colab": {
          "base_uri": "https://localhost:8080/",
          "height": 168
        },
        "outputId": "2deaf69a-d6e8-4a0a-ceeb-f5740dc73730"
      },
      "source": [
        "regr1=linear_model.LinearRegression()\n",
        "regr1.fit(X1,y1)\n",
        "regr1.predict(X1)"
      ],
      "execution_count": null,
      "outputs": [
        {
          "output_type": "execute_result",
          "data": {
            "text/plain": [
              "array([ 99.07423413,  96.3505083 ,  97.65142593,  98.72863299,\n",
              "        97.82727968,  97.65142593,  97.27650245,  99.16194157,\n",
              "        97.66118843,  98.38606494,  97.07914807,  96.97331429,\n",
              "        95.77823241,  99.32093602,  99.99917583, 100.03583744,\n",
              "       100.35662653, 105.09655526,  98.10193745, 104.31767779,\n",
              "       102.36384974, 106.52764693, 106.33005133, 100.81489667,\n",
              "       106.24035095,  99.75512464, 107.8978278 , 113.09125529,\n",
              "       101.80476017, 112.64926146, 112.4100346 , 113.55534881,\n",
              "        99.16512417, 100.5857616 , 100.72324265, 112.25681774])"
            ]
          },
          "metadata": {
            "tags": []
          },
          "execution_count": 92
        }
      ]
    },
    {
      "cell_type": "code",
      "metadata": {
        "id": "5imhwI0Hgybe",
        "colab_type": "code",
        "colab": {
          "base_uri": "https://localhost:8080/",
          "height": 34
        },
        "outputId": "84f9bc53-cfe3-40ec-f38b-e28f3a06e899"
      },
      "source": [
        "#intersección\n",
        "regr1.intercept_"
      ],
      "execution_count": null,
      "outputs": [
        {
          "output_type": "execute_result",
          "data": {
            "text/plain": [
              "139.35210836536515"
            ]
          },
          "metadata": {
            "tags": []
          },
          "execution_count": 93
        }
      ]
    },
    {
      "cell_type": "code",
      "metadata": {
        "id": "hhPXW3aJg26L",
        "colab_type": "code",
        "colab": {
          "base_uri": "https://localhost:8080/",
          "height": 34
        },
        "outputId": "91045a9e-f466-4e35-ff1a-a4cb179490d0"
      },
      "source": [
        "#coeficientes\n",
        "regr1.coef_"
      ],
      "execution_count": null,
      "outputs": [
        {
          "output_type": "execute_result",
          "data": {
            "text/plain": [
              "array([-4.25717518e-02, -3.21914104e-02,  3.23357216e-05])"
            ]
          },
          "metadata": {
            "tags": []
          },
          "execution_count": 94
        }
      ]
    },
    {
      "cell_type": "code",
      "metadata": {
        "id": "4bnJNeIShJSU",
        "colab_type": "code",
        "colab": {
          "base_uri": "https://localhost:8080/",
          "height": 34
        },
        "outputId": "9e433cc9-4f78-467c-b1f5-32db79702b64"
      },
      "source": [
        "mean_squared_error(y1,regr1.predict(X1))"
      ],
      "execution_count": null,
      "outputs": [
        {
          "output_type": "execute_result",
          "data": {
            "text/plain": [
              "26.289875715715752"
            ]
          },
          "metadata": {
            "tags": []
          },
          "execution_count": 95
        }
      ]
    },
    {
      "cell_type": "code",
      "metadata": {
        "id": "pdMLUFJHhRnZ",
        "colab_type": "code",
        "colab": {
          "base_uri": "https://localhost:8080/",
          "height": 34
        },
        "outputId": "5752cd25-f103-4c1f-f2aa-29d197a204c8"
      },
      "source": [
        "r2_score(y1,regr1.predict(X1))"
      ],
      "execution_count": null,
      "outputs": [
        {
          "output_type": "execute_result",
          "data": {
            "text/plain": [
              "0.5133938084296032"
            ]
          },
          "metadata": {
            "tags": []
          },
          "execution_count": 96
        }
      ]
    },
    {
      "cell_type": "markdown",
      "metadata": {
        "id": "16Jwkd9CiCJI",
        "colab_type": "text"
      },
      "source": [
        "Aprendizaje Supervisado"
      ]
    },
    {
      "cell_type": "code",
      "metadata": {
        "id": "1O5DTNW6iEoB",
        "colab_type": "code",
        "colab": {}
      },
      "source": [
        "X=df[['Weight']]\n",
        "y=df['CO2']"
      ],
      "execution_count": null,
      "outputs": []
    },
    {
      "cell_type": "code",
      "metadata": {
        "id": "13jrqnimiOwi",
        "colab_type": "code",
        "colab": {}
      },
      "source": [
        "X_train, X_test, y_train, y_test = train_test_split(X,y,test_size=0.3, random_state=0)"
      ],
      "execution_count": null,
      "outputs": []
    },
    {
      "cell_type": "code",
      "metadata": {
        "id": "r7dfGcEPjAmU",
        "colab_type": "code",
        "colab": {
          "base_uri": "https://localhost:8080/",
          "height": 34
        },
        "outputId": "08a760d4-f2eb-47c8-bb5e-a62ff52f2e5a"
      },
      "source": [
        "regr_t=linear_model.LinearRegression()\n",
        "regr_t.fit(X_train,y_train)\n",
        "predict_y_test=regr_t.predict(X_test)"
      ],
      "execution_count": null,
      "outputs": [
        {
          "output_type": "execute_result",
          "data": {
            "text/plain": [
              "LinearRegression(copy_X=True, fit_intercept=True, n_jobs=None, normalize=False)"
            ]
          },
          "metadata": {
            "tags": []
          },
          "execution_count": 102
        }
      ]
    },
    {
      "cell_type": "code",
      "metadata": {
        "id": "-ObjNBmRkZ-X",
        "colab_type": "code",
        "colab": {}
      },
      "source": [
        ""
      ],
      "execution_count": null,
      "outputs": []
    },
    {
      "cell_type": "code",
      "metadata": {
        "id": "ouz4XvoTjT_-",
        "colab_type": "code",
        "colab": {
          "base_uri": "https://localhost:8080/",
          "height": 269
        },
        "outputId": "00079cbc-57e5-405a-addf-89f82883992e"
      },
      "source": [
        "predict_y_test=regr_t.predict(X_test)\n",
        "print(predict_y_test)\n",
        "print(y_test)"
      ],
      "execution_count": null,
      "outputs": [
        {
          "output_type": "stream",
          "text": [
            "[107.69145971 105.56710926 102.69530217 105.84248802 102.69530217\n",
            " 102.23633756  97.64669153  96.97791453  97.77782427 107.15381546\n",
            " 107.41608094]\n",
            "31    117\n",
            "20     94\n",
            "16     99\n",
            "30    115\n",
            "22     99\n",
            "15     97\n",
            "10     99\n",
            "2      95\n",
            "11    101\n",
            "29    114\n",
            "27    114\n",
            "Name: CO2, dtype: int64\n"
          ],
          "name": "stdout"
        }
      ]
    },
    {
      "cell_type": "code",
      "metadata": {
        "id": "6ZC2rF6Mjdw4",
        "colab_type": "code",
        "colab": {
          "base_uri": "https://localhost:8080/",
          "height": 34
        },
        "outputId": "4301c1fe-aa01-48cb-c90f-3a18c676a944"
      },
      "source": [
        "mean_squared_error(predict_y_test,y_test)"
      ],
      "execution_count": null,
      "outputs": [
        {
          "output_type": "execute_result",
          "data": {
            "text/plain": [
              "42.307359181257816"
            ]
          },
          "metadata": {
            "tags": []
          },
          "execution_count": 104
        }
      ]
    },
    {
      "cell_type": "code",
      "metadata": {
        "id": "1_9IWGWfjqv7",
        "colab_type": "code",
        "colab": {
          "base_uri": "https://localhost:8080/",
          "height": 34
        },
        "outputId": "4730e987-bafb-4a47-82b1-de36cbfa28d3"
      },
      "source": [
        "r2_score(predict_y_test,y_test)"
      ],
      "execution_count": null,
      "outputs": [
        {
          "output_type": "execute_result",
          "data": {
            "text/plain": [
              "-1.7975279052777298"
            ]
          },
          "metadata": {
            "tags": []
          },
          "execution_count": 108
        }
      ]
    },
    {
      "cell_type": "code",
      "metadata": {
        "id": "jNhj-fPmkSFL",
        "colab_type": "code",
        "colab": {}
      },
      "source": [
        "X1=df[['Weight','Volume']]\n",
        "y1=df['CO2']\n",
        "print(X1.head())\n",
        "print(y1.head())"
      ],
      "execution_count": null,
      "outputs": []
    },
    {
      "cell_type": "code",
      "metadata": {
        "id": "4xkv3BIskbkg",
        "colab_type": "code",
        "colab": {
          "base_uri": "https://localhost:8080/",
          "height": 101
        },
        "outputId": "0db37f2c-b200-4d1a-ccab-7669e9005b18"
      },
      "source": [
        "X_train, X_test, y_train, y_test = train_test_split(X1,y1,test_size=0.3, random_state=0)\n",
        "regr_t2=linear_model.LinearRegression()\n",
        "regr_t2.fit(X_train,y_train)\n",
        "predict_y_test=regr_t2.predict(X_test)\n",
        "print(predict_y_test)\n",
        "print(mean_squared_error(predict_y_test,y_test))\n",
        "print(r2_score(predict_y_test,y_test))"
      ],
      "execution_count": null,
      "outputs": [
        {
          "output_type": "stream",
          "text": [
            "[110.6251852  102.53261763 101.09658976 110.14083187 106.32478351\n",
            " 100.86708759  96.94092583  96.85207176  97.60289591 110.04988951\n",
            " 110.33052155]\n",
            "23.48514256286126\n",
            "0.20729350413682557\n"
          ],
          "name": "stdout"
        }
      ]
    },
    {
      "cell_type": "code",
      "metadata": {
        "id": "kFhJB0PLoUGq",
        "colab_type": "code",
        "colab": {
          "base_uri": "https://localhost:8080/",
          "height": 339
        },
        "outputId": "0ecb597d-9276-4599-9ed4-55c79131f6e6"
      },
      "source": [
        "X1=df[['Weight','Volume']]\n",
        "y1=df['CO2']\n",
        "X1[\"Weight_Volume\"]=X1[\"Weight\"]*X1[\"Volume\"]\n",
        "print(X1.head())\n",
        "print(y1.head())"
      ],
      "execution_count": null,
      "outputs": [
        {
          "output_type": "stream",
          "text": [
            "   Weight  Volume  Weight_Volume\n",
            "0     790    1000         790000\n",
            "1    1160    1200        1392000\n",
            "2     929    1000         929000\n",
            "3     865     900         778500\n",
            "4    1140    1500        1710000\n",
            "0     99\n",
            "1     95\n",
            "2     95\n",
            "3     90\n",
            "4    105\n",
            "Name: CO2, dtype: int64\n"
          ],
          "name": "stdout"
        },
        {
          "output_type": "stream",
          "text": [
            "/usr/local/lib/python3.6/dist-packages/ipykernel_launcher.py:3: SettingWithCopyWarning: \n",
            "A value is trying to be set on a copy of a slice from a DataFrame.\n",
            "Try using .loc[row_indexer,col_indexer] = value instead\n",
            "\n",
            "See the caveats in the documentation: https://pandas.pydata.org/pandas-docs/stable/user_guide/indexing.html#returning-a-view-versus-a-copy\n",
            "  This is separate from the ipykernel package so we can avoid doing imports until\n"
          ],
          "name": "stderr"
        }
      ]
    },
    {
      "cell_type": "code",
      "metadata": {
        "id": "byRZ2C7BohSN",
        "colab_type": "code",
        "colab": {
          "base_uri": "https://localhost:8080/",
          "height": 101
        },
        "outputId": "2e286a08-a3d1-4768-b845-129add252d3e"
      },
      "source": [
        "X_train, X_test, y_train, y_test = train_test_split(X1,y1,test_size=0.3, random_state=0)\n",
        "regr_t2=linear_model.LinearRegression()\n",
        "regr_t2.fit(X_train,y_train)\n",
        "predict_y_test=regr_t2.predict(X_test)\n",
        "print(predict_y_test)\n",
        "print(mean_squared_error(predict_y_test,y_test))\n",
        "print(r2_score(predict_y_test,y_test))"
      ],
      "execution_count": null,
      "outputs": [
        {
          "output_type": "stream",
          "text": [
            "[110.6251852  102.53261763 101.09658976 110.14083187 106.32478351\n",
            " 100.86708759  96.94092583  96.85207176  97.60289591 110.04988951\n",
            " 110.33052155]\n",
            "23.48514256286126\n",
            "0.20729350413682557\n"
          ],
          "name": "stdout"
        }
      ]
    }
  ]
}