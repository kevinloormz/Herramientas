{
  "nbformat": 4,
  "nbformat_minor": 0,
  "metadata": {
    "colab": {
      "name": "Notebook.ipynb",
      "provenance": []
    },
    "kernelspec": {
      "name": "python3",
      "display_name": "Python 3"
    }
  },
  "cells": [
    {
      "cell_type": "code",
      "metadata": {
        "id": "GbExyLYCOMzk",
        "colab_type": "code",
        "colab": {}
      },
      "source": [
        ""
      ],
      "execution_count": 0,
      "outputs": []
    },
    {
      "cell_type": "markdown",
      "metadata": {
        "id": "ZqZvD1LaOXCc",
        "colab_type": "text"
      },
      "source": [
        "Primeros ejercicios de Python. \n",
        "Entendiendo el comportamiento de las variables. \n"
      ]
    },
    {
      "cell_type": "code",
      "metadata": {
        "id": "apduPJPlOl6l",
        "colab_type": "code",
        "outputId": "1c3d09d1-c8eb-4f67-fc06-7754f8f2ed9f",
        "colab": {
          "base_uri": "https://localhost:8080/",
          "height": 34
        }
      },
      "source": [
        "mensaje = \"hola\"\n",
        "print(mensaje)"
      ],
      "execution_count": 0,
      "outputs": [
        {
          "output_type": "stream",
          "text": [
            "hola\n"
          ],
          "name": "stdout"
        }
      ]
    },
    {
      "cell_type": "markdown",
      "metadata": {
        "id": "2lWuqtycP4wx",
        "colab_type": "text"
      },
      "source": [
        "**Ejemplo Identado**. Usar tabs de separación. "
      ]
    },
    {
      "cell_type": "code",
      "metadata": {
        "id": "0afdIhmkP-59",
        "colab_type": "code",
        "outputId": "09e99404-aab4-4be0-c8e7-1a4724a2e575",
        "colab": {
          "base_uri": "https://localhost:8080/",
          "height": 34
        }
      },
      "source": [
        "if 5>2:\n",
        "  print(\"5 > 2\")"
      ],
      "execution_count": 0,
      "outputs": [
        {
          "output_type": "stream",
          "text": [
            "5 > 2\n"
          ],
          "name": "stdout"
        }
      ]
    },
    {
      "cell_type": "code",
      "metadata": {
        "id": "6R_N_-GqQbIW",
        "colab_type": "code",
        "outputId": "c5de2286-d9c9-4922-97f0-1f0b2de140f7",
        "colab": {
          "base_uri": "https://localhost:8080/",
          "height": 34
        }
      },
      "source": [
        "a=4\n",
        "b=3\n",
        "if a>b:\n",
        "  print(a ,\"es mayor que \", b)"
      ],
      "execution_count": 0,
      "outputs": [
        {
          "output_type": "stream",
          "text": [
            "4 es mayor que  3\n"
          ],
          "name": "stdout"
        }
      ]
    },
    {
      "cell_type": "markdown",
      "metadata": {
        "id": "GpFS13rOREPR",
        "colab_type": "text"
      },
      "source": [
        "**Cómo usar comentarios**"
      ]
    },
    {
      "cell_type": "code",
      "metadata": {
        "id": "QnuBLJMDRLh2",
        "colab_type": "code",
        "outputId": "bc4fc8bc-5ec3-4f4a-9c15-ea0027b9e167",
        "colab": {
          "base_uri": "https://localhost:8080/",
          "height": 34
        }
      },
      "source": [
        "#Esto es un comentario\n",
        "print(\"hola\")"
      ],
      "execution_count": 0,
      "outputs": [
        {
          "output_type": "stream",
          "text": [
            "hola\n"
          ],
          "name": "stdout"
        }
      ]
    },
    {
      "cell_type": "markdown",
      "metadata": {
        "id": "CBHKAg15Rv0I",
        "colab_type": "text"
      },
      "source": [
        "**Tipos de Variables**"
      ]
    },
    {
      "cell_type": "code",
      "metadata": {
        "id": "Gefg7wstR47B",
        "colab_type": "code",
        "outputId": "613cb716-369c-4992-e59b-6e230b676889",
        "colab": {
          "base_uri": "https://localhost:8080/",
          "height": 34
        }
      },
      "source": [
        "a=5\n",
        "print(type(a))"
      ],
      "execution_count": 0,
      "outputs": [
        {
          "output_type": "stream",
          "text": [
            "<class 'int'>\n"
          ],
          "name": "stdout"
        }
      ]
    },
    {
      "cell_type": "code",
      "metadata": {
        "id": "anoh-1o8TMb7",
        "colab_type": "code",
        "outputId": "5bbc769c-9a95-49de-d401-2acfb85b4268",
        "colab": {
          "base_uri": "https://localhost:8080/",
          "height": 34
        }
      },
      "source": [
        "a=[1,2,3,4]\n",
        "print(type(a))"
      ],
      "execution_count": 0,
      "outputs": [
        {
          "output_type": "stream",
          "text": [
            "<class 'list'>\n"
          ],
          "name": "stdout"
        }
      ]
    },
    {
      "cell_type": "markdown",
      "metadata": {
        "id": "Xlu_6guoTxSc",
        "colab_type": "text"
      },
      "source": [
        "Tipos de Numeros"
      ]
    },
    {
      "cell_type": "code",
      "metadata": {
        "id": "Q_7FzJKfTzhK",
        "colab_type": "code",
        "outputId": "34878e9b-d2ab-41a8-f4a8-18005b0f4f68",
        "colab": {
          "base_uri": "https://localhost:8080/",
          "height": 34
        }
      },
      "source": [
        "x=1\n",
        "y=1.2\n",
        "\n",
        "#uso de funciones de conversion numericas\n",
        "b=int(y)\n",
        "c=float(x)\n",
        "\n",
        "print(b,c)"
      ],
      "execution_count": 0,
      "outputs": [
        {
          "output_type": "stream",
          "text": [
            "1 1.0\n"
          ],
          "name": "stdout"
        }
      ]
    },
    {
      "cell_type": "markdown",
      "metadata": {
        "id": "8B6HcLrcUJIn",
        "colab_type": "text"
      },
      "source": [
        "Redondeo"
      ]
    },
    {
      "cell_type": "code",
      "metadata": {
        "id": "_oIH8FXkULDy",
        "colab_type": "code",
        "outputId": "55410893-afdc-436b-9b25-cb81472a15b9",
        "colab": {
          "base_uri": "https://localhost:8080/",
          "height": 34
        }
      },
      "source": [
        "a=4.6\n",
        "a_redondeado=int(a+0.5)\n",
        "print(a_redondeado)"
      ],
      "execution_count": 0,
      "outputs": [
        {
          "output_type": "stream",
          "text": [
            "5\n"
          ],
          "name": "stdout"
        }
      ]
    },
    {
      "cell_type": "code",
      "metadata": {
        "id": "CaCjY6cIUpcN",
        "colab_type": "code",
        "colab": {}
      },
      "source": [
        "Librerias y numeros aleatorios"
      ],
      "execution_count": 0,
      "outputs": []
    },
    {
      "cell_type": "code",
      "metadata": {
        "id": "mw4kNvRMUt8k",
        "colab_type": "code",
        "outputId": "0ed2c1f6-39a7-4b0d-c3c1-4c04ddb6d485",
        "colab": {
          "base_uri": "https://localhost:8080/",
          "height": 50
        }
      },
      "source": [
        "#utilizando random\n",
        "import random\n",
        "\n",
        "x=random.randrange(1, 100)\n",
        "\n",
        "print(x)\n",
        "\n",
        "x_str=str(x)\n",
        "\n",
        "print(x_str)\n"
      ],
      "execution_count": 0,
      "outputs": [
        {
          "output_type": "stream",
          "text": [
            "66\n",
            "66\n"
          ],
          "name": "stdout"
        }
      ]
    },
    {
      "cell_type": "code",
      "metadata": {
        "id": "jwijAZoBV34A",
        "colab_type": "code",
        "outputId": "2d5502af-8f2c-42a4-f754-745adc580426",
        "colab": {
          "base_uri": "https://localhost:8080/",
          "height": 50
        }
      },
      "source": [
        "a=float(\"6\")\n",
        "print(a)\n",
        "\n",
        "b=float(3)\n",
        "print(b)"
      ],
      "execution_count": 0,
      "outputs": [
        {
          "output_type": "stream",
          "text": [
            "6.0\n",
            "3.0\n"
          ],
          "name": "stdout"
        }
      ]
    },
    {
      "cell_type": "markdown",
      "metadata": {
        "id": "9C0u7IIaWdN-",
        "colab_type": "text"
      },
      "source": [
        "String"
      ]
    },
    {
      "cell_type": "code",
      "metadata": {
        "id": "9DnbvFNwWfpl",
        "colab_type": "code",
        "outputId": "f305fb78-a945-4d94-b46d-2c0e18fe5102",
        "colab": {
          "base_uri": "https://localhost:8080/",
          "height": 314
        }
      },
      "source": [
        "x=\"Hello\"\n",
        "print(x[0])\n",
        "print(x[1])\n",
        "print(x[2])\n",
        "print(x[3])\n",
        "print(x[4])\n",
        "print(x[5])\n",
        "print(x[-1])\n",
        "\n"
      ],
      "execution_count": 0,
      "outputs": [
        {
          "output_type": "stream",
          "text": [
            "H\n",
            "e\n",
            "l\n",
            "l\n",
            "o\n"
          ],
          "name": "stdout"
        },
        {
          "output_type": "error",
          "ename": "IndexError",
          "evalue": "ignored",
          "traceback": [
            "\u001b[0;31m---------------------------------------------------------------------------\u001b[0m",
            "\u001b[0;31mIndexError\u001b[0m                                Traceback (most recent call last)",
            "\u001b[0;32m<ipython-input-25-13450633ec41>\u001b[0m in \u001b[0;36m<module>\u001b[0;34m()\u001b[0m\n\u001b[1;32m      5\u001b[0m \u001b[0mprint\u001b[0m\u001b[0;34m(\u001b[0m\u001b[0mx\u001b[0m\u001b[0;34m[\u001b[0m\u001b[0;36m3\u001b[0m\u001b[0;34m]\u001b[0m\u001b[0;34m)\u001b[0m\u001b[0;34m\u001b[0m\u001b[0;34m\u001b[0m\u001b[0m\n\u001b[1;32m      6\u001b[0m \u001b[0mprint\u001b[0m\u001b[0;34m(\u001b[0m\u001b[0mx\u001b[0m\u001b[0;34m[\u001b[0m\u001b[0;36m4\u001b[0m\u001b[0;34m]\u001b[0m\u001b[0;34m)\u001b[0m\u001b[0;34m\u001b[0m\u001b[0;34m\u001b[0m\u001b[0m\n\u001b[0;32m----> 7\u001b[0;31m \u001b[0mprint\u001b[0m\u001b[0;34m(\u001b[0m\u001b[0mx\u001b[0m\u001b[0;34m[\u001b[0m\u001b[0;36m5\u001b[0m\u001b[0;34m]\u001b[0m\u001b[0;34m)\u001b[0m\u001b[0;34m\u001b[0m\u001b[0;34m\u001b[0m\u001b[0m\n\u001b[0m\u001b[1;32m      8\u001b[0m \u001b[0mprint\u001b[0m\u001b[0;34m(\u001b[0m\u001b[0mx\u001b[0m\u001b[0;34m[\u001b[0m\u001b[0;34m-\u001b[0m\u001b[0;36m1\u001b[0m\u001b[0;34m]\u001b[0m\u001b[0;34m)\u001b[0m\u001b[0;34m\u001b[0m\u001b[0;34m\u001b[0m\u001b[0m\n\u001b[1;32m      9\u001b[0m \u001b[0;34m\u001b[0m\u001b[0m\n",
            "\u001b[0;31mIndexError\u001b[0m: string index out of range"
          ]
        }
      ]
    },
    {
      "cell_type": "code",
      "metadata": {
        "id": "sDRX-5A2XXWn",
        "colab_type": "code",
        "outputId": "1a225242-d0a9-4596-f146-41a5de7b79ab",
        "colab": {
          "base_uri": "https://localhost:8080/",
          "height": 34
        }
      },
      "source": [
        "x=\"Hello\"\n",
        "print(x[1:3])"
      ],
      "execution_count": 0,
      "outputs": [
        {
          "output_type": "stream",
          "text": [
            "el\n"
          ],
          "name": "stdout"
        }
      ]
    },
    {
      "cell_type": "code",
      "metadata": {
        "id": "VyqX55bKXlsA",
        "colab_type": "code",
        "outputId": "dbbf459d-fe0a-46c1-e2d9-a216c0ff6dcc",
        "colab": {
          "base_uri": "https://localhost:8080/",
          "height": 34
        }
      },
      "source": [
        "x=\"Hello\"\n",
        "print(x[2:5])"
      ],
      "execution_count": 0,
      "outputs": [
        {
          "output_type": "stream",
          "text": [
            "llo\n"
          ],
          "name": "stdout"
        }
      ]
    },
    {
      "cell_type": "code",
      "metadata": {
        "id": "8Y5f5EK_XtXH",
        "colab_type": "code",
        "outputId": "741d8129-e2f8-42f8-e166-c1e1ed477591",
        "colab": {
          "base_uri": "https://localhost:8080/",
          "height": 34
        }
      },
      "source": [
        "x=\"Hello\"\n",
        "l=len(x)\n",
        "print(\"La longitud es \",l)"
      ],
      "execution_count": 0,
      "outputs": [
        {
          "output_type": "stream",
          "text": [
            "La longitud es  5\n"
          ],
          "name": "stdout"
        }
      ]
    },
    {
      "cell_type": "code",
      "metadata": {
        "id": "KGuzoF5LYPoB",
        "colab_type": "code",
        "outputId": "4946b6e4-984b-40e7-ae2f-55bdcd72691a",
        "colab": {
          "base_uri": "https://localhost:8080/",
          "height": 101
        }
      },
      "source": [
        "x=\"  Hello, World!   \"\n",
        "x1=x.strip()\n",
        "\n",
        "print(x1)\n",
        "\n",
        "x2=x.lower()\n",
        "print(x2)\n",
        "\n",
        "\n",
        "x3=x.upper()\n",
        "print(x3)\n",
        "\n",
        "x4=x.replace(\"H\",\"J\")\n",
        "print(x4)\n",
        "\n",
        "x5=x.strip().lower().replace(\"h\",\"\")\n",
        "print(x5)\n"
      ],
      "execution_count": 0,
      "outputs": [
        {
          "output_type": "stream",
          "text": [
            "Hello, World!\n",
            "  hello, world!   \n",
            "  HELLO, WORLD!   \n",
            "  Jello, World!   \n",
            "ello, world!\n"
          ],
          "name": "stdout"
        }
      ]
    },
    {
      "cell_type": "code",
      "metadata": {
        "id": "FCeLdkmqZ_Ti",
        "colab_type": "code",
        "outputId": "acd02ca5-1906-4406-cea3-37a9c029eb46",
        "colab": {
          "base_uri": "https://localhost:8080/",
          "height": 50
        }
      },
      "source": [
        "#concatenación\n",
        "x=\"el dia es \"\n",
        "y=\"bonito\"\n",
        "z=x+y\n",
        "\n",
        "\n",
        "print(z)\n",
        "\n",
        "i=\"el numero es \" \n",
        "j=6\n",
        "k=i+str(j)\n",
        "print(k)\n",
        "\n"
      ],
      "execution_count": 0,
      "outputs": [
        {
          "output_type": "stream",
          "text": [
            "el dia es bonito\n",
            "el numero es 6\n"
          ],
          "name": "stdout"
        }
      ]
    },
    {
      "cell_type": "code",
      "metadata": {
        "id": "YqqA56Tkay-8",
        "colab_type": "code",
        "outputId": "94b4289d-b51b-455c-b196-eb7c9b375ff1",
        "colab": {
          "base_uri": "https://localhost:8080/",
          "height": 34
        }
      },
      "source": [
        "#uso de {} y uso de la función format\n",
        "edad=45\n",
        "altura=1.67\n",
        "peso=195\n",
        "txt=\"mi edad es {}, mi altura es {}, mi peso es {}\"\n",
        "print(txt.format(edad, altura, peso))\n"
      ],
      "execution_count": 0,
      "outputs": [
        {
          "output_type": "stream",
          "text": [
            "mi edad es 45, mi altura es 1.67, mi peso es 195\n"
          ],
          "name": "stdout"
        }
      ]
    },
    {
      "cell_type": "markdown",
      "metadata": {
        "id": "VMVVuJmpb7cA",
        "colab_type": "text"
      },
      "source": [
        "Boolean"
      ]
    },
    {
      "cell_type": "code",
      "metadata": {
        "id": "7QIYp97vb-GQ",
        "colab_type": "code",
        "outputId": "880994a0-b14a-44f6-d1e7-006a90f623bf",
        "colab": {
          "base_uri": "https://localhost:8080/",
          "height": 34
        }
      },
      "source": [
        "a= True\n",
        "b= False\n",
        "\n",
        "if a:\n",
        "  print(\"verdadero\")"
      ],
      "execution_count": 0,
      "outputs": [
        {
          "output_type": "stream",
          "text": [
            "verdadero\n"
          ],
          "name": "stdout"
        }
      ]
    },
    {
      "cell_type": "code",
      "metadata": {
        "id": "URgC10TvcTb9",
        "colab_type": "code",
        "outputId": "8416276e-6381-4094-b6a5-058dfaf57620",
        "colab": {
          "base_uri": "https://localhost:8080/",
          "height": 34
        }
      },
      "source": [
        "def myTrue():\n",
        "  return True\n",
        "\n",
        "\n",
        "print(myTrue())"
      ],
      "execution_count": 0,
      "outputs": [
        {
          "output_type": "stream",
          "text": [
            "True\n"
          ],
          "name": "stdout"
        }
      ]
    },
    {
      "cell_type": "markdown",
      "metadata": {
        "id": "YHjazD9SgrlL",
        "colab_type": "text"
      },
      "source": [
        "Operadores"
      ]
    },
    {
      "cell_type": "markdown",
      "metadata": {
        "id": "V_uxqEfSgufd",
        "colab_type": "text"
      },
      "source": [
        "x=5"
      ]
    },
    {
      "cell_type": "code",
      "metadata": {
        "id": "rW9O6qk0gypX",
        "colab_type": "code",
        "outputId": "a1d8e91c-a828-4baf-c886-55d4a0dbf83f",
        "colab": {
          "base_uri": "https://localhost:8080/",
          "height": 84
        }
      },
      "source": [
        "x=5\n",
        "\n",
        "#x=x+5\n",
        "x+=5\n",
        "print(x)\n",
        "\n",
        "#x=x-3\n",
        "x-=3\n",
        "print(x)\n",
        "\n",
        "#x=x*4\n",
        "x*=4\n",
        "print(x)\n",
        "\n",
        "#x=x/8\n",
        "x/=8\n",
        "print(x)"
      ],
      "execution_count": 0,
      "outputs": [
        {
          "output_type": "stream",
          "text": [
            "10\n",
            "7\n",
            "28\n",
            "3.5\n"
          ],
          "name": "stdout"
        }
      ]
    },
    {
      "cell_type": "code",
      "metadata": {
        "id": "UMFlFTEhhetU",
        "colab_type": "code",
        "outputId": "51f2d4b3-ab16-4ea9-da29-281b8e23f3f2",
        "colab": {
          "base_uri": "https://localhost:8080/",
          "height": 67
        }
      },
      "source": [
        "x=10\n",
        "\n",
        "y=x/2\n",
        "print(y)\n",
        "\n",
        "z=x%3\n",
        "print(z)\n",
        "\n",
        "r=x**3\n",
        "print(r)\n",
        "\n",
        "\n"
      ],
      "execution_count": 0,
      "outputs": [
        {
          "output_type": "stream",
          "text": [
            "5.0\n",
            "1\n",
            "1000\n"
          ],
          "name": "stdout"
        }
      ]
    },
    {
      "cell_type": "code",
      "metadata": {
        "id": "MmF1iGOaiBnU",
        "colab_type": "code",
        "outputId": "39847794-fee9-44a2-ece1-9efdb9f50be5",
        "colab": {
          "base_uri": "https://localhost:8080/",
          "height": 118
        }
      },
      "source": [
        "x=5\n",
        "y=6\n",
        "\n",
        "print(x==y)\n",
        "print(x!=y)\n",
        "print(x>=y)\n",
        "print(x>y)\n",
        "print(x<=y)\n",
        "print(x<y)\n"
      ],
      "execution_count": 0,
      "outputs": [
        {
          "output_type": "stream",
          "text": [
            "False\n",
            "True\n",
            "False\n",
            "False\n",
            "True\n",
            "True\n"
          ],
          "name": "stdout"
        }
      ]
    },
    {
      "cell_type": "code",
      "metadata": {
        "id": "V7_3Rp_Jiir9",
        "colab_type": "code",
        "outputId": "19aa76ee-388a-45ee-8623-0f22a839aebc",
        "colab": {
          "base_uri": "https://localhost:8080/",
          "height": 50
        }
      },
      "source": [
        "x=8\n",
        "y=7\n",
        "\n",
        "if (x>10) and (y==7):\n",
        "  print(\"Hi1\")\n",
        "\n",
        "\n",
        "if (x>10) or (y==7):\n",
        "  print(\"Hi2\")\n",
        "\n",
        "\n",
        "if not(x>10) and (y==7):\n",
        "  print(\"Hi3\")  "
      ],
      "execution_count": 0,
      "outputs": [
        {
          "output_type": "stream",
          "text": [
            "Hi2\n",
            "Hi3\n"
          ],
          "name": "stdout"
        }
      ]
    },
    {
      "cell_type": "markdown",
      "metadata": {
        "id": "RVvrw0c1jcAe",
        "colab_type": "text"
      },
      "source": [
        "Funciones"
      ]
    },
    {
      "cell_type": "code",
      "metadata": {
        "id": "-u_GxJnkjeY6",
        "colab_type": "code",
        "outputId": "3137f5a7-e733-400c-eb0c-00c0cda3aac9",
        "colab": {
          "base_uri": "https://localhost:8080/",
          "height": 84
        }
      },
      "source": [
        "def myfunction(x,y):\n",
        "  x=str(x)\n",
        "  y=str(y)\n",
        "  return(x+y)\n",
        "\n",
        "print(myfunction('2',3))\n",
        "print(myfunction(4,5))\n",
        "\n",
        "def myfunction2(x=0,y=9):\n",
        "  x=str(x)\n",
        "  y=str(y)\n",
        "  return(x+y)\n",
        "\n",
        "print(myfunction2())\n",
        "print(myfunction2(6,7))"
      ],
      "execution_count": 0,
      "outputs": [
        {
          "output_type": "stream",
          "text": [
            "23\n",
            "45\n",
            "09\n",
            "67\n"
          ],
          "name": "stdout"
        }
      ]
    },
    {
      "cell_type": "code",
      "metadata": {
        "id": "k_X8nGZXkqzN",
        "colab_type": "code",
        "outputId": "bc1a4f5e-11ac-4c9f-dc07-d30b8686823f",
        "colab": {
          "base_uri": "https://localhost:8080/",
          "height": 118
        }
      },
      "source": [
        "def fibo(n):\n",
        "  if n==1 or n==2:\n",
        "    return 1\n",
        "  else:\n",
        "    return fibo(n-1)+fibo(n-2)\n",
        "\n",
        "\n",
        "\n",
        "print(fibo(2))\n",
        "print(fibo(3))\n",
        "print(fibo(4))\n",
        "print(fibo(5))\n",
        "print(fibo(6))\n",
        "print(fibo(20))\n",
        "\n",
        "\n",
        "\n"
      ],
      "execution_count": 0,
      "outputs": [
        {
          "output_type": "stream",
          "text": [
            "1\n",
            "2\n",
            "3\n",
            "5\n",
            "8\n",
            "6765\n"
          ],
          "name": "stdout"
        }
      ]
    },
    {
      "cell_type": "markdown",
      "metadata": {
        "id": "8CjkDylJXgA3",
        "colab_type": "text"
      },
      "source": [
        ""
      ]
    }
  ]
}