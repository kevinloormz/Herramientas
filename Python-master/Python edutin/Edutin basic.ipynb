{
 "cells": [
  {
   "cell_type": "code",
   "execution_count": 45,
   "metadata": {},
   "outputs": [
    {
     "name": "stdout",
     "output_type": "stream",
     "text": [
      "[99, 34, 22, 13, 9, 7, 4, 3, 1, [22, 13, 9, 7, 4, 3, 1]]\n"
     ]
    }
   ],
   "source": [
    "#listas corchetes\n",
    "lista= [1,'hola',True]\n",
    "\n",
    "lista.append('24')\n",
    "lista.insert(1,'insert')\n",
    "\n",
    "lista.remove(1)\n",
    "\n",
    "lista.pop() #eliminar ultimo elemento de la lista tipo pila \n",
    "\n",
    "lista_a=[1,3,7,4,9,22,13]\n",
    "\n",
    "lista_a.sort()#ascendente \n",
    "lista_a.sort(reverse=True)#descendente \n",
    "\n",
    "lista_b=[99,34]\n",
    "\n",
    "lista_b.extend(lista_a)\n",
    "\n",
    "lista_b.append(lista_a)\n",
    "\n",
    "print(lista_b) \n",
    "\n",
    "\n",
    "#print(lista[0:5])"
   ]
  },
  {
   "cell_type": "code",
   "execution_count": 44,
   "metadata": {},
   "outputs": [
    {
     "name": "stdout",
     "output_type": "stream",
     "text": [
      "(1, True)\n"
     ]
    }
   ],
   "source": [
    "#tuplas inmutables parentesis\n",
    "mi_tupla=(1,True,\"string\") \n",
    "print(mi_tupla[0:2])\n"
   ]
  },
  {
   "cell_type": "code",
   "execution_count": 34,
   "metadata": {},
   "outputs": [
    {
     "name": "stdout",
     "output_type": "stream",
     "text": [
      "{'b': False, 5: 'esto es string', (1, 2): False, 'x': 34, 'z': 45}\n"
     ]
    }
   ],
   "source": [
    "#Diccionarios clave valor  llaves\n",
    "diccionario={ 'a':55, 'b':10, 5:\"esto es string\", (1,2):False } #las claves deben ser inmutables si las llaves son iguales\n",
    "#toma el ultimo valor \n",
    "\n",
    "diccionario['a']='kevin'\n",
    "\n",
    "diccionario['b']=False #si se encuentra actualiza\n",
    "\n",
    "valor= diccionario['b'] #obtenemos los valores\n",
    "\n",
    "valorget= diccionario.get('a',\"No se encuentra\")#buscar\n",
    "\n",
    "llaves= list(diccionario.keys() )#objeto iterable \n",
    "\n",
    "valores= tuple(diccionario.values())#valores\n",
    "\n",
    "del diccionario['a']#eliminar\n",
    "\n",
    "diccionario_dos={'x':34,'z':45}\n",
    "\n",
    "#diccionario['x']=diccionario_dos['x'] #extender diccionario \n",
    "\n",
    "#diccionario['z']=diccionario_dos['z']\n",
    "\n",
    "diccionario.update(diccionario_dos)\n",
    "\n",
    "print(diccionario)\n",
    "\n",
    "#print(valorget)\n",
    "\n",
    "#print(valores)"
   ]
  },
  {
   "cell_type": "code",
   "execution_count": 3,
   "metadata": {},
   "outputs": [
    {
     "name": "stdout",
     "output_type": "stream",
     "text": [
      "k@d\n"
     ]
    },
    {
     "data": {
      "text/plain": [
       "True"
      ]
     },
     "execution_count": 3,
     "metadata": {},
     "output_type": "execute_result"
    }
   ],
   "source": [
    "#funciones \n",
    "\n",
    "def validar(email):\n",
    "    buscar='@'\n",
    "    for i in email:\n",
    "        if i==buscar:\n",
    "            return True    \n",
    "    return False\n",
    "        \n",
    "        \n",
    "#Prog principal \n",
    "\n",
    "email=input()\n",
    "\n",
    "validar(email)"
   ]
  },
  {
   "cell_type": "code",
   "execution_count": null,
   "metadata": {},
   "outputs": [],
   "source": []
  }
 ],
 "metadata": {
  "kernelspec": {
   "display_name": "Python 3",
   "language": "python",
   "name": "python3"
  },
  "language_info": {
   "codemirror_mode": {
    "name": "ipython",
    "version": 3
   },
   "file_extension": ".py",
   "mimetype": "text/x-python",
   "name": "python",
   "nbconvert_exporter": "python",
   "pygments_lexer": "ipython3",
   "version": "3.7.4"
  }
 },
 "nbformat": 4,
 "nbformat_minor": 2
}
